{
 "cells": [
  {
   "cell_type": "raw",
   "metadata": {},
   "source": [
    "#notes:\n",
    "# perhaps do something special if there is not at least some # of\n",
    "# matches between images that are adjacent in time/space\n",
    "\n",
    "# look at the distribution of pixels to determine which method of keypoints\n",
    "# should be used?\n",
    "\n",
    "# determine neighbors according to the meta-data, match features only among\n",
    "# neighbors\n",
    "\n",
    "# start with smaller scale image, then work up if needed, how to tell which\n",
    "# size is necessary??? - texture changes maybe\n",
    "\n",
    "# should we stack onto each image as we go... or when a new line is started\n",
    "\n",
    "# how to determine if matches are bad.... need to master ransac or force\n",
    "# matching to do better\n",
    "\n",
    "# structure from motion, CMVS flightriot.com\n",
    "\n",
    "#overlapping area, then matched keypoints as ordering\n",
    "\n",
    "# only select keypoints from the same elevation level\n",
    "\n",
    "# different resolutions\n",
    "# 204x153\n",
    "# 408x306\n",
    "# 816x612\n",
    "\n",
    "# quality estimates\n",
    "# correlation error\n",
    "\n",
    "# comparison -\n",
    "# autopano, pix4d (3D), ptoptimizer, ptmender\n",
    "# look at spatial relation\n"
   ]
  },
  {
   "cell_type": "code",
   "execution_count": 118,
   "metadata": {
    "collapsed": true
   },
   "outputs": [],
   "source": [
    "import os\n",
    "import sys\n",
    "\n",
    "import matplotlib.pyplot as plt\n",
    "import numpy as np\n",
    "\n",
    "from skimage.io import ImageCollection\n",
    "from skimage.data import imread\n",
    "from skimage.color import rgb2hsv, rgb2gray\n",
    "from skimage.transform import warp, SimilarityTransform, AffineTransform, ProjectiveTransform\n",
    "from skimage.feature import (ORB, match_descriptors, corner_harris,\n",
    "                             plot_matches)\n",
    "from skimage.measure import ransac\n",
    "from numpy.random import randint\n",
    "%matplotlib inline"
   ]
  },
  {
   "cell_type": "code",
   "execution_count": 4,
   "metadata": {
    "collapsed": false
   },
   "outputs": [],
   "source": [
    "pano_imgs = ImageCollection('*.jpg')\n",
    "\n",
    "img_feat = {}\n",
    "num_imgs = len(img_col)\n",
    "min_matches = 40\n",
    "num_keypoints = 800"
   ]
  },
  {
   "cell_type": "code",
   "execution_count": 5,
   "metadata": {
    "collapsed": true
   },
   "outputs": [],
   "source": [
    "def compare(*images, **kwargs):\n",
    "    \"\"\"\n",
    "    Function to display images side by side (from skimage example)\n",
    "\n",
    "    Parameters\n",
    "    ----------\n",
    "    image0, image1, ....: ndarray\n",
    "        Images to display\n",
    "    labels: list\n",
    "        Labels for the different images\n",
    "    \"\"\"\n",
    "    f, ax = plt.subplots(1, len(images), **kwargs)\n",
    "    ax = np.array(ax, ndmin=1)\n",
    "\n",
    "    labels = kwargs.pop('labels', None)\n",
    "    labels = [''] * len(images)\n",
    "    for n, (image, label) in enumerate(zip(images, labels)):\n",
    "        ax[n].imshow(image, interpolation='nearest', cmap=plt.gray())\n",
    "        ax[n].set_title(label)\n",
    "        #ax[n].axis('off')\n",
    "    plt.tight_layout()"
   ]
  },
  {
   "cell_type": "code",
   "execution_count": 6,
   "metadata": {
    "collapsed": true
   },
   "outputs": [],
   "source": [
    "def get_best_matches(k1, k2, matches):\n",
    "    src = k1[matches[:,0]][:,::-1]\n",
    "    dst = k2[matches[:,1]][:,::-1]\n",
    "    # if there are not enough matches, this fails\n",
    "    model_robust, inliers = ransac((src, dst), ProjectiveTransform,\n",
    "                                   min_samples=20, residual_threshold=1,\n",
    "                                   max_trials=40)\n",
    "\n",
    "    return model_robust, inliers\n",
    "\n",
    "def develop_metadata_mosaic():\n",
    "    # set max pitch and roll angles as qulity\n",
    "    pass"
   ]
  },
  {
   "cell_type": "code",
   "execution_count": 90,
   "metadata": {
    "collapsed": true
   },
   "outputs": [],
   "source": [
    "def hsv_imread(img_path):\n",
    "    return rgb2hsv(imread(img_path))\n",
    "\n",
    "def load_images(search_dir, ftype):\n",
    "    search_path = os.path.join(search_dir, '*'+ftype)\n",
    "    imgs = ImageCollection(search_path, conserve_memory=False,\n",
    "                           load_func=hsv_imread)\n",
    "    return imgs\n",
    "img_col = load_images('../data/jpg/', 'jpg')[:50]\n",
    "\n",
    "def plot_two_matches(img1, img2, k1, k2, matches):\n",
    "    fig, ax = plt.subplots(nrows=1, ncols=2)\n",
    "    plt.gray()\n",
    "    #plot_matches(ax, img1, img2, k1, k2, matches)\n",
    "    ax[0].imshow(img1)\n",
    "    ax[0].axis('off')\n",
    "    ax[0].scatter(k1[:, 1], k1[:, 0],  facecolors='none', edgecolors='r')\n",
    "\n",
    "    ax[1].imshow(img2)\n",
    "    ax[1].axis('off')\n",
    "    ax[1].scatter(k2[:, 1], k2[:, 0], facecolors='none', edgecolors='r')\n",
    "    plt.show()\n",
    "    \n",
    "    plt.show()\n",
    "    \n",
    "def plot_two_keypoints(img1, img2, k1, k2, s1=1, s2=1):\n",
    "    fig, ax = plt.subplots(nrows=1, ncols=2)\n",
    "    plt.gray()\n",
    "\n",
    "    ax[0].imshow(img1)\n",
    "    ax[0].axis('off')\n",
    "    ax[0].scatter(k1[:, 1], k1[:, 0], facecolors='none', edgecolors='r')\n",
    "\n",
    "    ax[1].imshow(img2)\n",
    "    ax[1].axis('off')\n",
    "    ax[1].scatter(k2[:, 1], k2[:, 0], facecolors='none', edgecolors='r')\n",
    "    plt.show()"
   ]
  },
  {
   "cell_type": "code",
   "execution_count": null,
   "metadata": {
    "collapsed": true
   },
   "outputs": [],
   "source": []
  },
  {
   "cell_type": "code",
   "execution_count": null,
   "metadata": {
    "collapsed": true
   },
   "outputs": [],
   "source": []
  },
  {
   "cell_type": "code",
   "execution_count": 119,
   "metadata": {
    "collapsed": false
   },
   "outputs": [],
   "source": [
    "def find_mask(base_img, img, model_robust):\n",
    "    output_shape, corner_min = find_output_shape(base_img, model_robust)\n",
    "    #print(\"my output_shape\", output_shape, corner_min)\n",
    "    #print(model_robust.scale, model_robust.translation, model_robust.rotation)\n",
    "    \n",
    "    # This in-plane offset is the only necessary transformation for the base image\n",
    "    offset = SimilarityTransform(translation= -corner_min)\n",
    "    base_warped = warp(base_img, offset.inverse, order=3, \n",
    "                      output_shape = output_shape, cval=-1)\n",
    "    \n",
    "    # warp image corners to new position in mosaic\n",
    "    transform = (model_robust + offset).inverse\n",
    "    \n",
    "    img_warped = warp(img, transform, order=3, \n",
    "                      output_shape=output_shape, cval=-1)\n",
    "    \n",
    "    base_mask = (base_warped != -1)\n",
    "    base_warped[~base_mask] = 0\n",
    "\n",
    "    img_mask = (img_warped != -1)\n",
    "    img_warped[~img_mask] = 0\n",
    "    \n",
    "    \n",
    "    # Add the three images together. This could create dtype overflows!\n",
    "    # We know they are are floating point images after warping, so it's OK.\n",
    "    merged = (base_warped + img_warped)\n",
    "\n",
    "    # Track the overlap by adding the masks together\n",
    "    overlap = (base_mask * 1.0 +  # Multiply by 1.0 for bool -> float conversion\n",
    "               img_mask)\n",
    "\n",
    "    # Normalize through division by `overlap` - but ensure the minimum is 1\n",
    "    norm = merged / np.maximum(overlap, 1)\n",
    "    \n",
    "    return norm\n",
    "    "
   ]
  },
  {
   "cell_type": "code",
   "execution_count": 92,
   "metadata": {
    "collapsed": true
   },
   "outputs": [],
   "source": [
    "def detect_and_extract(detector, img):\n",
    "    detector.detect_and_extract(img)\n",
    "    keypoints = detector.keypoints\n",
    "    descriptors = detector.descriptors\n",
    "    return keypoints, descriptors"
   ]
  },
  {
   "cell_type": "code",
   "execution_count": 93,
   "metadata": {
    "collapsed": true
   },
   "outputs": [],
   "source": [
    "def find_output_shape(base_img, model_robust):\n",
    "    r, c = base_img.shape[:2]\n",
    "    print(r,c)\n",
    "    corners = np.array([[0,0], \n",
    "                        [0,r],\n",
    "                        [c,0],\n",
    "                        [c,r]])\n",
    "    warped_corners = model_robust(corners)\n",
    "    all_corners = np.vstack((warped_corners, corners))\n",
    "    # The overally output shape will be max - min\n",
    "    corner_min = np.min(all_corners, axis=0)\n",
    "    corner_max = np.max(all_corners, axis=0)\n",
    "    output_shape = (corner_max - corner_min)\n",
    "    # Ensure integer shape with np.ceil and dtype conversion\n",
    "    output_shape = np.ceil(output_shape[::-1]).astype(int)\n",
    "    return output_shape, corner_min\n"
   ]
  },
  {
   "cell_type": "code",
   "execution_count": 135,
   "metadata": {
    "collapsed": false
   },
   "outputs": [],
   "source": [
    "def find_two_matches(base_img, img2, base_k, k2, base_d, d2):\n",
    "    #matches = match_descriptors(d1, d2, max_distance=.2, cross_check=True)\n",
    "    matches = match_descriptors(base_d, d2, cross_check=True)\n",
    "    \n",
    "    #   * src (image to be registered): pano2\n",
    "    #   * dst (reference image): pano1, our middle frame registration target\n",
    "    src = k2[matches[:,1]][:,::-1]\n",
    "    dst = base_k[matches[:,0]][:,::-1]\n",
    "    \n",
    "   \n",
    "    # if there are not enough matches, this fails\n",
    "    #fig, ax = plt.subplots(1,1,figsize=(15,12))\n",
    "    #plot_matches(ax, base_img, img2, base_k, k2, matches)\n",
    "    if matches.shape[0] > 4:\n",
    "        model_robust, inliers = ransac((src, dst), AffineTransform,\n",
    "                                   min_samples=4, residual_threshold=1,\n",
    "                                   max_trials=300)\n",
    "\n",
    "        ransac_matches = matches[inliers]\n",
    "        #print('matches', matches.shape)\n",
    "        #print('ransac matches', ransac_matches.shape)\n",
    "        \n",
    "        #fig, ax = plt.subplots(1,1,figsize=(15,12))\n",
    "        #plot_matches(ax, base_img, img2, base_k, k2, ransac_matches)\n",
    "\n",
    "        return model_robust, ransac_matches\n",
    "    else:\n",
    "        return np.zeros((0, 2)), np.zeros((0, 2))"
   ]
  },
  {
   "cell_type": "code",
   "execution_count": 136,
   "metadata": {
    "collapsed": false
   },
   "outputs": [],
   "source": [
    "#t = (0,-150)\n",
    "#t = (-150,-300)\n",
    "t = (0, 200)\n",
    "tform = SimilarityTransform(translation=t)\n",
    "\n",
    "\n",
    "base_img = rgb2gray(pano_imgs[1][:,:,2])\n",
    "#img2 = warp(base_img, tform)\n",
    "img2 = rgb2gray(pano_imgs[2])\n",
    "\n",
    "\n",
    "#k2, d2 = detect_and_extract(orb, img2)   \n",
    "\n",
    "#find_two_matches(base_img, img2, base_k, k2, base_d, d2)\n",
    "\n",
    "#matches12 = match_descriptors(base_d, d2, cross_check=True)\n",
    "#print('match 12', matches12.shape)\n",
    "\n",
    "img0 = rgb2gray(pano_imgs[0])\n",
    "base_img = rgb2gray(pano_imgs[1])\n",
    "img2 = rgb2gray(pano_imgs[2])\n",
    "\n",
    "\n",
    "\n",
    "    \n",
    "\n",
    "## Match descriptors between left/right images and the center\n",
    "#matches10 = match_descriptors(base_d, d0, cross_check=True)\n",
    "\n",
    "#matches12 = match_descriptors(base_d, d2, cross_check=True)\n",
    "\n",
    "#model_robust10, ransac_matches10 = find_two_matches(base_img, img0, base_k, k0, base_d, d0)\n",
    "#model_robust12, ransac_matches12 = find_two_matches(base_img, img2, base_k, k2, base_d, d2)\n",
    "\n",
    "#nn0 = find_mask(base_img, img0, model_robust10)\n",
    "#plt.show()\n",
    "#nn2 = find_mask(base_img, img2, model_robust12)\n",
    "#plt.show()\n",
    "#fig, ax = plt.subplots(1,1,figsize=(15,12))\n",
    "#plot_matches(ax, base_img, img2, base_k, k2, ransac_matches)\n",
    "\n"
   ]
  },
  {
   "cell_type": "code",
   "execution_count": 145,
   "metadata": {
    "collapsed": true
   },
   "outputs": [],
   "source": [
    "def find_all_matches(base_img, imgs, num_unmatched):\n",
    "    not_matched = []\n",
    "    for xx, img in enumerate(imgs):\n",
    "        orb = ORB(n_keypoints=800, fast_threshold=0.05)\n",
    "        base_k, base_d = detect_and_extract(orb, base_img)\n",
    "        img_k, img_d = detect_and_extract(orb, img)\n",
    "        matches = match_descriptors(base_d, img_d, cross_check=True)\n",
    "        print('matches', matches.shape)\n",
    "        model_robust, ransac_matches = find_two_matches(base_img, img, \n",
    "                                                            base_k, img_k, \n",
    "                                                            base_d, img_d)\n",
    "        if ransac_matches.shape[0] < 10:\n",
    "            print(\"not matched\", xx)\n",
    "            not_matched.append(img) \n",
    "        else:\n",
    "            print('ransac matches', ransac_matches.shape)\n",
    "            base_img = find_mask(base_img, img, model_robust) \n",
    "\n",
    "    # if we were able to match some images to this base_img that\n",
    "    # were not matched in the last run, call again until \n",
    "    # the number of unmatched images stops decreasing\n",
    "    if len(not_matched) & (len(not_matched) < num_unmatched):\n",
    "        find_all_matched(base_img, not_matched, len(not_matched))\n",
    "    else:\n",
    "        return base_img, not_matched\n",
    "    "
   ]
  },
  {
   "cell_type": "code",
   "execution_count": 156,
   "metadata": {
    "collapsed": false
   },
   "outputs": [
    {
     "name": "stdout",
     "output_type": "stream",
     "text": [
      "('RUNNING BASE X', 0)\n",
      "('matches', (358, 2))\n",
      "('ransac matches', (94, 2))\n",
      "(477, 720)\n",
      "('output shape', array([ 505, 1101]))\n",
      "('corner min', array([ 0.,  0.]))\n",
      "('matches', (315, 2))\n",
      "('ransac matches', (76, 2))\n",
      "(505, 1101)\n",
      "('output shape', array([ 551, 1862]))\n",
      "('corner min', array([  0.        , -14.78485367]))\n"
     ]
    },
    {
     "data": {
      "image/png": "[encoded data removed]",
      "text/plain": [
       "<matplotlib.figure.Figure at 0x10df1f2d0>"
      ]
     },
     "metadata": {},
     "output_type": "display_data"
    }
   ],
   "source": [
    "#run through each of the images starting randomly\n",
    "#for x in range(10):\n",
    "if 1:\n",
    "    #imgs = [rgb2gray(pano_imgs[0]), rgb2gray(pano_imgs[1]), rgb2gray(pano_imgs[2])]\n",
    "    #base_x = randint(0,len(imgs))\n",
    "    imgs = [rgb2gray(pano_imgs[0]), rgb2gray(pano_imgs[1]), rgb2gray(pano_imgs[2])]\n",
    "    base_x = 0\n",
    "    base_img = imgs.pop(base_x)\n",
    "    print(\"RUNNING BASE X\", base_x)\n",
    "    #initialize to greater than len of possible images so we go \n",
    "    # through at least once\n",
    "    \n",
    "    base_img, imgs = find_all_matches(base_img, imgs)\n",
    "\n",
    "    # if there are still images left over, use these to \n",
    "    # start a new base image\n",
    "        \n",
    "\n",
    "    plt.figure()\n",
    "    plt.title('base x %s' %base_x)\n",
    "    plt.imshow(base_img)\n",
    "    plt.show()\n"
   ]
  },
  {
   "cell_type": "code",
   "execution_count": null,
   "metadata": {
    "collapsed": true
   },
   "outputs": [],
   "source": []
  },
  {
   "cell_type": "code",
   "execution_count": null,
   "metadata": {
    "collapsed": true
   },
   "outputs": [],
   "source": [
    "\n",
    "           "
   ]
  },
  {
   "cell_type": "code",
   "execution_count": null,
   "metadata": {
    "collapsed": false
   },
   "outputs": [],
   "source": []
  },
  {
   "cell_type": "code",
   "execution_count": null,
   "metadata": {
    "collapsed": false
   },
   "outputs": [],
   "source": []
  },
  {
   "cell_type": "code",
   "execution_count": null,
   "metadata": {
    "collapsed": true
   },
   "outputs": [],
   "source": []
  },
  {
   "cell_type": "code",
   "execution_count": null,
   "metadata": {
    "collapsed": true
   },
   "outputs": [],
   "source": []
  },
  {
   "cell_type": "code",
   "execution_count": null,
   "metadata": {
    "collapsed": false
   },
   "outputs": [],
   "source": [
    "\n",
    "\n"
   ]
  },
  {
   "cell_type": "code",
   "execution_count": null,
   "metadata": {
    "collapsed": false
   },
   "outputs": [],
   "source": []
  },
  {
   "cell_type": "code",
   "execution_count": null,
   "metadata": {
    "collapsed": true
   },
   "outputs": [],
   "source": []
  },
  {
   "cell_type": "code",
   "execution_count": null,
   "metadata": {
    "collapsed": true
   },
   "outputs": [],
   "source": []
  },
  {
   "cell_type": "code",
   "execution_count": null,
   "metadata": {
    "collapsed": true
   },
   "outputs": [],
   "source": [
    "\n",
    "\n",
    "\n",
    "\n"
   ]
  },
  {
   "cell_type": "code",
   "execution_count": null,
   "metadata": {
    "collapsed": true
   },
   "outputs": [],
   "source": []
  },
  {
   "cell_type": "code",
   "execution_count": null,
   "metadata": {
    "collapsed": true
   },
   "outputs": [],
   "source": []
  }
 ],
 "metadata": {
  "kernelspec": {
   "display_name": "Python 2",
   "language": "python",
   "name": "python2"
  },
  "language_info": {
   "codemirror_mode": {
    "name": "ipython",
    "version": 2
   },
   "file_extension": ".py",
   "mimetype": "text/x-python",
   "name": "python",
   "nbconvert_exporter": "python",
   "pygments_lexer": "ipython2",
   "version": "2.7.10"
  }
 },
 "nbformat": 4,
 "nbformat_minor": 0
}
