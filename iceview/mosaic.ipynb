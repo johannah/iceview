{
 "cells": [
  {
   "cell_type": "raw",
   "metadata": {},
   "source": [
    "#notes:\n",
    "# perhaps do something special if there is not at least some # of\n",
    "# matches between images that are adjacent in time/space\n",
    "\n",
    "# look at the distribution of pixels to determine which method of keypoints\n",
    "# should be used?\n",
    "\n",
    "# determine neighbors according to the meta-data, match features only among\n",
    "# neighbors\n",
    "\n",
    "# start with smaller scale image, then work up if needed, how to tell which\n",
    "# size is necessary??? - texture changes maybe\n",
    "\n",
    "# should we stack onto each image as we go... or when a new line is started\n",
    "\n",
    "# how to determine if matches are bad.... need to master ransac or force\n",
    "# matching to do better\n",
    "\n",
    "# structure from motion, CMVS flightriot.com\n",
    "\n",
    "#overlapping area, then matched keypoints as ordering\n",
    "\n",
    "# only select keypoints from the same elevation level\n",
    "\n",
    "# different resolutions\n",
    "# 204x153\n",
    "# 408x306\n",
    "# 816x612\n",
    "\n",
    "# quality estimates\n",
    "# correlation error\n",
    "\n",
    "# comparison -\n",
    "# autopano, pix4d (3D), ptoptimizer, ptmender\n",
    "# look at spatial relation\n"
   ]
  },
  {
   "cell_type": "code",
   "execution_count": 229,
   "metadata": {
    "collapsed": false
   },
   "outputs": [],
   "source": [
    "import os\n",
    "import sys\n",
    "\n",
    "import matplotlib.pyplot as plt\n",
    "import numpy as np\n",
    "from glob import glob\n",
    "from skimage.io import ImageCollection, imsave\n",
    "from skimage.data import imread\n",
    "from skimage.color import rgb2hsv, rgb2gray, gray2rgb\n",
    "from skimage.transform import warp, SimilarityTransform, AffineTransform, ProjectiveTransform\n",
    "from skimage.feature import (ORB, match_descriptors, corner_harris,\n",
    "                             plot_matches)\n",
    "from skimage.measure import ransac\n",
    "from numpy.random import randint\n",
    "from skimage.measure import label\n",
    "from skimage.graph import route_through_array\n",
    "from sklearn.feature_extraction import image\n",
    "from subprocess import Popen, PIPE\n",
    "%matplotlib inline\n",
    "path_to_enblend = '/Users/jhansen/Applications/enblend-enfuse-4.0-mac/enblend'\n",
    "tmp_out = '/tmp/out.png'\n",
    "tmp_base = '/tmp/base.png'\n",
    "tmp_img = '/tmp/img.png'"
   ]
  },
  {
   "cell_type": "code",
   "execution_count": 230,
   "metadata": {
    "collapsed": true
   },
   "outputs": [],
   "source": [
    "def hsv_imread(img_path):\n",
    "    return rgb2hsv(imread(img_path))\n",
    "\n",
    "def gray_imread(img_path):\n",
    "    return rgb2gray(imread(img_path))\n",
    "\n",
    "def load_images(search_dir, ftype):\n",
    "    orb = ORB(n_keypoints=num_keypoints, fast_threshold=0.05)\n",
    "    search_path = os.path.join(search_dir, '*'+ftype)\n",
    "    files = glob(search_path)\n",
    "    imgs = []\n",
    "    for ff in files:\n",
    "        img = imread(ff)\n",
    "        k, d = detect_and_extract(orb, img[:,:,2])\n",
    "        imgs.append({'name':os.path.split(ff)[1], 'img':img, \n",
    "                    'keypoints':k, 'descriptors':d})\n",
    "        \n",
    "        \n",
    "    #imgs = ImageCollection(search_path, conserve_memory=False,\n",
    "    #                       load_func=gray_imread)\n",
    "    return imgs"
   ]
  },
  {
   "cell_type": "code",
   "execution_count": null,
   "metadata": {
    "collapsed": false
   },
   "outputs": [],
   "source": []
  },
  {
   "cell_type": "code",
   "execution_count": 5,
   "metadata": {
    "collapsed": true
   },
   "outputs": [],
   "source": [
    "def compare(*images, **kwargs):\n",
    "    \"\"\"\n",
    "    Function to display images side by side (from skimage example)\n",
    "\n",
    "    Parameters\n",
    "    ----------\n",
    "    image0, image1, ....: ndarray\n",
    "        Images to display\n",
    "    labels: list\n",
    "        Labels for the different images\n",
    "    \"\"\"\n",
    "    f, ax = plt.subplots(1, len(images), **kwargs)\n",
    "    ax = np.array(ax, ndmin=1)\n",
    "\n",
    "    labels = kwargs.pop('labels', None)\n",
    "    labels = [''] * len(images)\n",
    "    for n, (image, label) in enumerate(zip(images, labels)):\n",
    "        ax[n].imshow(image, interpolation='nearest', cmap=plt.gray())\n",
    "        ax[n].set_title(label)\n",
    "        #ax[n].axis('off')\n",
    "    plt.tight_layout()"
   ]
  },
  {
   "cell_type": "code",
   "execution_count": 6,
   "metadata": {
    "collapsed": true
   },
   "outputs": [],
   "source": [
    "def get_best_matches(k1, k2, matches):\n",
    "    src = k1[matches[:,0]][:,::-1]\n",
    "    dst = k2[matches[:,1]][:,::-1]\n",
    "    # if there are not enough matches, this fails\n",
    "    model_robust, inliers = ransac((src, dst), ProjectiveTransform,\n",
    "                                   min_samples=20, residual_threshold=1,\n",
    "                                   max_trials=40)\n",
    "\n",
    "    return model_robust, inliers\n",
    "\n",
    "def develop_metadata_mosaic():\n",
    "    # set max pitch and roll angles as qulity\n",
    "    pass"
   ]
  },
  {
   "cell_type": "code",
   "execution_count": 7,
   "metadata": {
    "collapsed": true
   },
   "outputs": [],
   "source": [
    "\n",
    "\n",
    "\n",
    "def plot_two_matches(img1, img2, k1, k2, matches):\n",
    "    fig, ax = plt.subplots(nrows=1, ncols=2)\n",
    "    plt.gray()\n",
    "    #plot_matches(ax, img1, img2, k1, k2, matches)\n",
    "    ax[0].imshow(img1)\n",
    "    ax[0].axis('off')\n",
    "    ax[0].scatter(k1[:, 1], k1[:, 0],  facecolors='none', edgecolors='r')\n",
    "\n",
    "    ax[1].imshow(img2)\n",
    "    ax[1].axis('off')\n",
    "    ax[1].scatter(k2[:, 1], k2[:, 0], facecolors='none', edgecolors='r')\n",
    "    plt.show()\n",
    "    \n",
    "    plt.show()\n",
    "    \n",
    "def plot_two_keypoints(img1, img2, k1, k2, s1=1, s2=1):\n",
    "    fig, ax = plt.subplots(nrows=1, ncols=2)\n",
    "    plt.gray()\n",
    "\n",
    "    ax[0].imshow(img1)\n",
    "    ax[0].axis('off')\n",
    "    ax[0].scatter(k1[:, 1], k1[:, 0], facecolors='none', edgecolors='r')\n",
    "\n",
    "    ax[1].imshow(img2)\n",
    "    ax[1].axis('off')\n",
    "    ax[1].scatter(k2[:, 1], k2[:, 0], facecolors='none', edgecolors='r')\n",
    "    plt.show()"
   ]
  },
  {
   "cell_type": "code",
   "execution_count": 8,
   "metadata": {
    "collapsed": true
   },
   "outputs": [],
   "source": [
    "\n",
    "def generate_costs(diff_image, mask, vertical=True, gradient_cutoff=2.):\n",
    "    \"\"\"\n",
    "    Ensures equal-cost paths from edges to region of interest.\n",
    "    \n",
    "    Parameters\n",
    "    ----------\n",
    "    diff_image : ndarray of floats\n",
    "        Difference of two overlapping images.\n",
    "    mask : ndarray of bools\n",
    "        Mask representing the region of interest in ``diff_image``.\n",
    "    vertical : bool\n",
    "        Control operation orientation.\n",
    "    gradient_cutoff : float\n",
    "        Controls how far out of parallel lines can be to edges before\n",
    "        correction is terminated. The default (2.) is good for most cases.\n",
    "        \n",
    "    Returns\n",
    "    -------\n",
    "    costs_arr : ndarray of floats\n",
    "        Adjusted costs array, ready for use.\n",
    "    \"\"\"\n",
    "    if vertical is not True:\n",
    "        return tweak_costs(diff_image.T, mask.T, vertical=vertical,\n",
    "                           gradient_cutoff=gradient_cutoff).T\n",
    "    \n",
    "    # Start with a high-cost array of 1's\n",
    "    costs_arr = np.ones_like(diff_image)\n",
    "    \n",
    "    # Obtain extent of overlap\n",
    "    row, col = mask.nonzero()\n",
    "    cmin = col.min()\n",
    "    cmax = col.max()\n",
    "\n",
    "    # Label discrete regions\n",
    "    cslice = slice(cmin, cmax + 1)\n",
    "    labels = label(mask[:, cslice])\n",
    "    \n",
    "    # Find distance from edge to region\n",
    "    upper = (labels == 0).sum(axis=0)\n",
    "    lower = (labels == 2).sum(axis=0)\n",
    "    \n",
    "    # Reject areas of high change\n",
    "    ugood = np.abs(np.gradient(upper)) < gradient_cutoff\n",
    "    lgood = np.abs(np.gradient(lower)) < gradient_cutoff\n",
    "    \n",
    "    # Give areas slightly farther from edge a cost break\n",
    "    costs_upper = np.ones_like(upper, dtype=np.float64)\n",
    "    costs_lower = np.ones_like(lower, dtype=np.float64)\n",
    "    costs_upper[ugood] = upper.min() / np.maximum(upper[ugood], 1)\n",
    "    costs_lower[lgood] = lower.min() / np.maximum(lower[lgood], 1)\n",
    "    \n",
    "    # Expand from 1d back to 2d\n",
    "    vdist = mask.shape[0]\n",
    "    costs_upper = costs_upper[np.newaxis, :].repeat(vdist, axis=0)\n",
    "    costs_lower = costs_lower[np.newaxis, :].repeat(vdist, axis=0)\n",
    "    \n",
    "    # Place these in output array\n",
    "    costs_arr[:, cslice] = costs_upper * (labels == 0)\n",
    "    costs_arr[:, cslice] +=  costs_lower * (labels == 2)\n",
    "    \n",
    "    # Finally, place the difference image\n",
    "    costs_arr[mask] = diff_image[mask]\n",
    "    \n",
    "    return costs_arr"
   ]
  },
  {
   "cell_type": "code",
   "execution_count": 9,
   "metadata": {
    "collapsed": false
   },
   "outputs": [],
   "source": [
    "def calc_enblend(timg, warped):\n",
    "    pass\n",
    "\n",
    "def add_alpha_channel(img, background=-1):\n",
    "    \"\"\"Add an alpha layer to the image.\n",
    "    \n",
    "    The alpha layer is set to 1 for foreground and 0 for background.\n",
    "    \"\"\"\n",
    "    if img.ndim == 2:\n",
    "        img = gray2rgb(img)\n",
    "    return np.dstack((img, (img != background)))\n"
   ]
  },
  {
   "cell_type": "code",
   "execution_count": 10,
   "metadata": {
    "collapsed": true
   },
   "outputs": [],
   "source": [
    "def add_alpha(img, mask=None):\n",
    "    \"\"\"\n",
    "    Adds a masked alpha channel to an image.\n",
    "    \n",
    "    Parameters\n",
    "    ----------\n",
    "    img : (M, N[, 3]) ndarray\n",
    "        Image data, should be rank-2 or rank-3 with RGB channels\n",
    "    mask : (M, N[, 3]) ndarray, optional\n",
    "        Mask to be applied. If None, the alpha channel is added\n",
    "        with full opacity assumed (1) at all locations.\n",
    "    \"\"\"\n",
    "    if mask is None:\n",
    "        mask = np.ones_like(img)\n",
    "        \n",
    "    if img.ndim == 2:\n",
    "        img = gray2rgb(img)\n",
    "    \n",
    "    return np.dstack((img, mask))"
   ]
  },
  {
   "cell_type": "code",
   "execution_count": 11,
   "metadata": {
    "collapsed": true
   },
   "outputs": [],
   "source": [
    "def simple_merge(base_warped, img_warped, base_mask, img_mask):\n",
    "    \n",
    "    # Add the three images together. This could create dtype overflows!\n",
    "    # We know they are are floating point images after warping, so it's OK.\n",
    "    merged = (base_warped + img_warped)\n",
    "\n",
    "    # Track the overlap by adding the masks together\n",
    "    # Multiply by 1.0 for bool -> float conversion\n",
    "    overlap = (base_mask * 1.0 + img_mask)\n",
    "\n",
    "    # Normalize through division by `overlap` - but ensure the minimum is 1\n",
    "    norm = merged / np.maximum(overlap, 1)\n",
    "\n",
    "    return norm"
   ]
  },
  {
   "cell_type": "code",
   "execution_count": null,
   "metadata": {
    "collapsed": false
   },
   "outputs": [],
   "source": [
    "\n",
    "\n",
    "    "
   ]
  },
  {
   "cell_type": "code",
   "execution_count": 12,
   "metadata": {
    "collapsed": true
   },
   "outputs": [],
   "source": [
    "def detect_and_extract(detector, img):\n",
    "    detector.detect_and_extract(img)\n",
    "    keypoints = detector.keypoints\n",
    "    descriptors = detector.descriptors\n",
    "    return keypoints, descriptors"
   ]
  },
  {
   "cell_type": "code",
   "execution_count": 13,
   "metadata": {
    "collapsed": true
   },
   "outputs": [],
   "source": [
    "def find_output_shape(base_img, model_robust):\n",
    "    r, c = base_img.shape[:2]\n",
    "    \n",
    "    corners = np.array([[0,0], \n",
    "                        [0,r],\n",
    "                        [c,0],\n",
    "                        [c,r]])\n",
    "    \n",
    "    warped_corners = model_robust(corners)\n",
    "    all_corners = np.vstack((warped_corners, corners))\n",
    "    # The overally output shape will be max - min\n",
    "    corner_min = np.min(all_corners, axis=0)\n",
    "    corner_max = np.max(all_corners, axis=0)\n",
    "    output_shape = (corner_max - corner_min)\n",
    "    # Ensure integer shape with np.ceil and dtype conversion\n",
    "    output_shape = np.ceil(output_shape[::-1]).astype(int)\n",
    "    return output_shape, corner_min\n"
   ]
  },
  {
   "cell_type": "code",
   "execution_count": 14,
   "metadata": {
    "collapsed": false
   },
   "outputs": [],
   "source": [
    "def find_two_matches(base_img, img, base_k, img_k, base_d, img_d, min_matches=10):\n",
    "    matches = match_descriptors(base_d, img_d, cross_check=True)\n",
    "    \n",
    "    #   * src (image to be registered): pano2\n",
    "    #   * dst (reference image): pano1, our middle frame registration target\n",
    "    src = img_k[matches[:,1]][:,::-1]\n",
    "    dst = base_k[matches[:,0]][:,::-1]\n",
    "    \n",
    "    # if there are not enough matches, this fails\n",
    "    # TODO: what type of transform:\n",
    "    # AffineTransform\n",
    "    # SimilarityTransform\n",
    "    # ProjectiveTransform\n",
    "    if matches.shape[0] > min_matches:\n",
    "        model_robust, inliers = ransac((src, dst), AffineTransform,\n",
    "                                   min_samples=4, residual_threshold=1,\n",
    "                                   max_trials=300)\n",
    "\n",
    "        ransac_matches = matches[inliers]\n",
    "        return model_robust, ransac_matches\n",
    "    else:\n",
    "        return np.zeros((0, 2)), np.zeros((0, 2))"
   ]
  },
  {
   "cell_type": "code",
   "execution_count": 16,
   "metadata": {
    "collapsed": false
   },
   "outputs": [],
   "source": [
    "\n",
    "num_keypoints = 800\n",
    "pano_imgs = ImageCollection('*.jpg')\n",
    "img_col = load_images('../data/jpg/', 'jpg')\n",
    "img_feat = {}\n",
    "num_imgs = len(img_col)\n",
    "min_matches = 40\n"
   ]
  },
  {
   "cell_type": "code",
   "execution_count": 17,
   "metadata": {
    "collapsed": false
   },
   "outputs": [],
   "source": [
    "def remove_empty_edges(img):\n",
    "    def get_mask(sums):\n",
    "        if sum(sums) > 0:\n",
    "            first = sums.index(1)\n",
    "            last = sums[::-1].index(1)\n",
    "\n",
    "            num_ones = (len(sums)-first)-last\n",
    "            out = [0]*first + [1]*num_ones + [0]*last\n",
    "            return out\n",
    "        else:\n",
    "            return sums\n",
    "    \n",
    "    #for ax in range(len(img.shape)):\n",
    "    axes = [0, 1]\n",
    "    for ax in range(2):\n",
    "        sums = np.sum(img, axis=axes[ax])\n",
    "        # make a mask of zero lines in image \n",
    "        sums= [bool(x) for x in sums]\n",
    "        empty = get_mask(list(sums)) \n",
    "        img = np.compress(empty, img, axis=axes[ax-1])\n",
    "    return img"
   ]
  },
  {
   "cell_type": "code",
   "execution_count": null,
   "metadata": {
    "collapsed": false
   },
   "outputs": [],
   "source": []
  },
  {
   "cell_type": "code",
   "execution_count": 271,
   "metadata": {
    "collapsed": false
   },
   "outputs": [],
   "source": [
    "def find_all_matches(unmatched, \n",
    "                     matched=[], \n",
    "                     fail_limit=3,\n",
    "                     num_keypoints=800,\n",
    "                     min_to_match=20, \n",
    "                     do_plot=False):\n",
    "    \n",
    "    num_unmatched = len(unmatched)\n",
    "    if num_unmatched == 0:\n",
    "        print(\"NONE left unmatched\")\n",
    "        return matched\n",
    "    if num_unmatched == 1:\n",
    "        print(\"ONE left unmatched\")\n",
    "        matched.append(unmatched[0])\n",
    "        return matched\n",
    "    \n",
    "    print(\"=====================================\")\n",
    "    base = unmatched[0]\n",
    "    base_img = base['img']\n",
    "    orb = ORB(n_keypoints=num_keypoints, fast_threshold=0.05)\n",
    "\n",
    "    base_unmatched = []\n",
    "    \n",
    "    base_matched = 0\n",
    "    base_name = base['name'].split('.')[0]\n",
    "\n",
    "    for xx, timg in enumerate(unmatched[1:]):\n",
    "        img = timg['img'][:,:,2]\n",
    "        \n",
    "        # print('working on xx', xx, base_name, timg['name'])\n",
    "        base_k, base_d = detect_and_extract(orb, base_img[:,:,2])\n",
    "        # if we haven't recorded the keypoints for this image, get them now\n",
    "        if 'keypoints' in timg.keys():\n",
    "            img_k = timg['keypoints']\n",
    "            img_d = timg['descriptors']\n",
    "        else:\n",
    "            img_k, img_d = detect_and_extract(orb, img)\n",
    "            timg['keypoints'] = img_k\n",
    "            timg['descriptors'] = img_d\n",
    "\n",
    "        \n",
    "        matches = match_descriptors(base_d, img_d, cross_check=True)\n",
    "        \n",
    "        model_robust, ransac_matches = find_two_matches(base_img[:,:,2], img, \n",
    "                                                            base_k, img_k, \n",
    "                                                            base_d, img_d)\n",
    "        if do_plot:\n",
    "            print('matches', matches.shape[0], ransac_matches.shape[0])\n",
    "            #plot_two_keypoints(ax, base_img, img, base_k, img_k)\n",
    "            fig, ax = plt.subplots(nrows=1, ncols=2, figsize=(15,12))\n",
    "            plt.title('%s #### %s' %(base_name, timg['name']))\n",
    "            plt.gray()\n",
    "\n",
    "            ax[0].imshow(base_img)\n",
    "            ax[0].axis('off')\n",
    "            ax[0].scatter(base_k[:, 1], base_k[:, 0], facecolors='none', edgecolors='r')\n",
    "\n",
    "            ax[1].imshow(img)\n",
    "            ax[1].axis('off')\n",
    "            ax[1].scatter(img_k[:, 1], img_k[:, 0], facecolors='none', edgecolors='r')\n",
    "            plt.show()\n",
    "        if ransac_matches.shape[0] < min_to_match:\n",
    "            print(\"not matched\", matches.shape[0], \"ransac\", ransac_matches.shape[0])\n",
    "            base_unmatched.extend(timg)\n",
    "            if len(base_unmatched) >= fail_limit:\n",
    "                # add two since we've already added this timg\n",
    "                base_unmatched.extend(unmatched[xx+2:])\n",
    "                break\n",
    "        else:\n",
    "            print(\"Matched: %s\" %base_matched)\n",
    "            #print('ransac matches', ransac_matches.shape)\n",
    "            base_img = find_mask(base['img'], timg['img'], model_robust) \n",
    "            base_matched += 1\n",
    "            base_name+= '_' + timg['name'].split('.')[0]\n",
    "            \n",
    "\n",
    "    # if we were able to match some images to this base_img that\n",
    "    # were not matched in the last run, call again until \n",
    "    # the number of unmatched images stops decreasing\n",
    "    \n",
    "    #print('num previous unmatched', num_unmatched)\n",
    "    #print(\"could not match %s out of %s imgs\" %(len(base_unmatched), \n",
    "    #                                            len(unmatched)-1))\n",
    "    # not_matched must be > 0\n",
    "    # the new number of matches must be less than last time's not matched\n",
    "    \n",
    "    rr = {'name':base_name, 'img':base_img}\n",
    "    if (len(base_unmatched)) > 0:\n",
    "        #if base_matched > 0 :\n",
    "            #base_unmatched.insert(0, rr)\n",
    "            #print(\"!!!!!!!!!!! 1 match %s, unmatch %s\" %(len(matched), len(base_unmatched)))\n",
    "            \n",
    "            #return find_all_matches(base_unmatched, matched, num_keypoints, min_to_match)\n",
    "        #else:\n",
    "        print(\"DECLARING %s as matched, ending\" %base_name)\n",
    "        matched.append(rr)\n",
    "        #print(\"!!!!!!!!!!! 2 match %s, unmatch %s\" %(len(matched), len(base_unmatched)))\n",
    "        return find_all_matches(base_unmatched, matched, num_keypoints, min_to_match)\n",
    "    else:\n",
    "        matched.append(rr)\n",
    "        #print(\"!!!!!!!!!!! 3 match %s, unmatch %s\" %(len(matched), len(base_unmatched)))\n",
    "        return matched\n",
    "    "
   ]
  },
  {
   "cell_type": "code",
   "execution_count": 254,
   "metadata": {
    "collapsed": true
   },
   "outputs": [],
   "source": [
    "def minimum_cost_merge(base_warped, img_warped, base_mask, img_mask):\n",
    "    # Start with the absolute value of the difference image.\n",
    "    # np.abs is necessary because we don't want negative costs!\n",
    "    costs = generate_costs(np.abs(img_warped - base_warped),\n",
    "                           img_mask & base_mask)\n",
    "    costs[0,  :] = 0\n",
    "    costs[-1, :] = 0\n",
    "\n",
    "    output_shape = base_warped.shape\n",
    "    # Arguments are:\n",
    "    #   cost array\n",
    "    #   start pt\n",
    "    #   end pt\n",
    "    #   can it traverse diagonally\n",
    "    ymax = output_shape[1] - 1\n",
    "    xmax = output_shape[0] - 1\n",
    "\n",
    "    # Start anywhere along the top and bottom, left of center.\n",
    "    mask_pts01 = [[0,    ymax // 3],\n",
    "                  [xmax, ymax // 3]]\n",
    "\n",
    "    # Start anywhere along the top and bottom, right of center.\n",
    "    mask_pts12 = [[0,    2*ymax // 3],\n",
    "                  [xmax, 2*ymax // 3]]\n",
    "    \n",
    "    pts, _ = route_through_array(costs, mask_pts01[0], mask_pts01[1], fully_connected=True)\n",
    "\n",
    "    # Convert list of lists to 2d coordinate array for easier indexing\n",
    "    pts = np.array(pts)\n",
    "   \n",
    "    # Start with an array of zeros and place the path\n",
    "    _img_mask = np.zeros_like(img_warped, dtype=np.uint8)\n",
    "    _img_mask[pts[:, 0], pts[:, 1]] = 1\n",
    "\n",
    "\n",
    "    # Labeling starts with zero at point (0, 0)\n",
    "    _img_mask[label(_img_mask, connectivity=1) == 0] = 1\n",
    "    \n",
    "    _base_mask = ~(_img_mask).astype(bool)\n",
    "\n",
    "    base_color = gray2rgb(base_warped)\n",
    "    img_color = gray2rgb(img_warped)\n",
    "    base_final = add_alpha(base_warped, _base_mask)\n",
    "    img_final = add_alpha(img_warped, _img_mask)\n",
    "    \n",
    "    # Start with empty image\n",
    "    base_combined = np.zeros_like(base_warped)\n",
    "    \n",
    "    base_combined += base_warped * _base_mask\n",
    "    base_combined += img_warped * _img_mask\n",
    "    \n",
    "    return base_combined\n",
    "\n",
    "\n",
    "\n",
    "   "
   ]
  },
  {
   "cell_type": "code",
   "execution_count": 255,
   "metadata": {
    "collapsed": true
   },
   "outputs": [],
   "source": [
    "def patchmaker(img):\n",
    "    patches = image.extract_patches_2d(img, patch_size=(100,100),\n",
    "                                         max_patches=10,\n",
    "                                         random_state=182)\n",
    "    return patches"
   ]
  },
  {
   "cell_type": "code",
   "execution_count": 256,
   "metadata": {
    "collapsed": false
   },
   "outputs": [],
   "source": [
    "def find_mask(base_img, img, model_robust):\n",
    "    # what type of interpolation\n",
    "    # 0: nearest-neighbor\n",
    "    # 1: bi-linear\n",
    "    warp_order = 1\n",
    "\n",
    "    output_shape, corner_min = find_output_shape(base_img, model_robust)\n",
    "    #print(\"output_shape\", output_shape, corner_min)\n",
    "    #print(model_robust.scale, model_robust.translation, model_robust.rotation)\n",
    "    \n",
    "    # This in-plane offset is the only necessary transformation for the base image\n",
    "    offset = SimilarityTransform(translation= -corner_min)\n",
    "    base_warped = warp(base_img[:,:,2], offset.inverse, order=warp_order, \n",
    "                      output_shape = output_shape, cval=-1)\n",
    "    base_color = warp(base_img, offset.inverse, order=warp_order, \n",
    "                      output_shape = output_shape, cval=-1)   \n",
    "    # warp image corners to new position in mosaic\n",
    "    transform = (model_robust + offset).inverse\n",
    "    \n",
    "    img_warped = warp(img[:,:,2], transform, order=warp_order, \n",
    "                      output_shape=output_shape, cval=-1)\n",
    "    img_color = warp(img, transform, order=warp_order, \n",
    "                      output_shape=output_shape, cval=-1)\n",
    "    base_mask = (base_warped != -1)\n",
    "    base_warped[~base_mask] = 0\n",
    "\n",
    "    img_mask = (img_warped != -1)\n",
    "    img_warped[~img_mask] = 0\n",
    "\n",
    "    #convert to rgb\n",
    "    #base_alpha = add_alpha(base_color, base_mask)\n",
    "    img_alpha = np.dstack((img_color, img_mask))\n",
    "    base_alpha = np.dstack((base_color, base_mask))\n",
    "\n",
    "    plt.imsave(tmp_base, base_alpha )\n",
    "    plt.imsave(tmp_img, img_alpha )\n",
    "    cmd = [path_to_enblend, tmp_base, tmp_img, '-o', tmp_out]\n",
    "    subprocess.call(cmd)\n",
    "    \n",
    "    \n",
    "\n",
    "    p = Popen(cmd, stdin=PIPE, stdout=PIPE, stderr=PIPE)\n",
    "    output, err = p.communicate(b\"input data that is passed to subprocess' stdin\")\n",
    "    rc = p.returncode\n",
    "    # remove alpha channel\n",
    "    \n",
    "    if os.path.exists(tmp_out):\n",
    "        out = imread(tmp_out)[:,:,:3]\n",
    "    else:\n",
    "        print(\"couldnt find out image\")\n",
    "        print(rc, output, err)\n",
    "        plt.figure()\n",
    "        plt.imshow(base_alpha)\n",
    "        plt.figure()\n",
    "\n",
    "        plt.imshow(img_alpha)\n",
    "        plt.show()\n",
    "        out = base_alpha[:,:,:3]\n",
    "    #if you don't have enblend, you can use one of these\n",
    "    #merged_img = simple_merge(base_warped, img_warped, base_mask, img_mask)\n",
    "    #merged_img = minimum_cost_merge(base_warped, img_warped, base_mask, img_mask)\n",
    "    #merged_edges = remove_empty_edges(merged_img)\n",
    "    return out\n",
    "\n"
   ]
  },
  {
   "cell_type": "code",
   "execution_count": 264,
   "metadata": {
    "collapsed": false
   },
   "outputs": [
    {
     "name": "stdout",
     "output_type": "stream",
     "text": [
      "=====================================\n",
      "Matched: 0\n",
      "('not matched', 37, 'ransac', 6)\n",
      "DECLARING IMG_1768_IMG_1769 as matched, ending\n",
      "=====================================\n",
      "Matched: 0\n",
      "('not matched', 34, 'ransac', 12)\n",
      "DECLARING IMG_1770_IMG_1771 as matched, ending\n",
      "=====================================\n",
      "('not matched', 36, 'ransac', 13)\n",
      "DECLARING IMG_1772 as matched, ending\n",
      "=====================================\n",
      "Matched: 0\n"
     ]
    }
   ],
   "source": [
    "#patches = patchmaker(img_col[0])\n",
    "timg_col = img_col[3:10]\n",
    "\n",
    "#dbase_img, dimgs = find_all_matches(base_img, timg_col, len(timg_col))\n",
    "mymatched = find_all_matches(timg_col, [], 400, 15, False)"
   ]
  },
  {
   "cell_type": "code",
   "execution_count": 265,
   "metadata": {
    "collapsed": false
   },
   "outputs": [
    {
     "name": "stdout",
     "output_type": "stream",
     "text": [
      "=====================================\n",
      "('matches', 41, 13)\n"
     ]
    },
    {
     "data": {
      "image/png": "[encoded data removed]",
      "text/plain": [
       "<matplotlib.figure.Figure at 0x10d7f5410>"
      ]
     },
     "metadata": {},
     "output_type": "display_data"
    },
    {
     "name": "stdout",
     "output_type": "stream",
     "text": [
      "('not matched', 41, 'ransac', 13)\n",
      "DECLARING IMG_1768_IMG_1769 as matched, ending\n",
      "=====================================\n",
      "('not matched', 34, 'ransac', 13)\n",
      "DECLARING IMG_1770_IMG_1771 as matched, ending\n",
      "=====================================\n",
      "('not matched', 33, 'ransac', 14)\n",
      "DECLARING IMG_1772 as matched, ending\n"
     ]
    }
   ],
   "source": [
    "mymatched1 = find_all_matches(mymatched, [], 800, 15, True)"
   ]
  },
  {
   "cell_type": "code",
   "execution_count": 266,
   "metadata": {
    "collapsed": false
   },
   "outputs": [],
   "source": [
    "#print('num', len(mymatched))\n",
    "#for xx, timg in enumerate(mymatched):\n",
    "#    plt.figure(figsize=(14,14))\n",
    "#    plt.title(\"matched this %s %s\" %(xx, timg['name']))\n",
    "#    plt.imshow(timg['img'])\n",
    "#    plt.show()"
   ]
  },
  {
   "cell_type": "code",
   "execution_count": 268,
   "metadata": {
    "collapsed": false
   },
   "outputs": [
    {
     "name": "stdout",
     "output_type": "stream",
     "text": [
      "4\n"
     ]
    }
   ],
   "source": [
    "print(len(mymatched))"
   ]
  },
  {
   "cell_type": "code",
   "execution_count": 71,
   "metadata": {
    "collapsed": false
   },
   "outputs": [],
   "source": [
    "\n"
   ]
  },
  {
   "cell_type": "code",
   "execution_count": null,
   "metadata": {
    "collapsed": false
   },
   "outputs": [],
   "source": []
  },
  {
   "cell_type": "code",
   "execution_count": 79,
   "metadata": {
    "collapsed": false
   },
   "outputs": [],
   "source": []
  },
  {
   "cell_type": "code",
   "execution_count": null,
   "metadata": {
    "collapsed": false
   },
   "outputs": [],
   "source": []
  },
  {
   "cell_type": "code",
   "execution_count": null,
   "metadata": {
    "collapsed": true
   },
   "outputs": [],
   "source": [
    "\n",
    "           "
   ]
  },
  {
   "cell_type": "code",
   "execution_count": null,
   "metadata": {
    "collapsed": false
   },
   "outputs": [],
   "source": []
  },
  {
   "cell_type": "code",
   "execution_count": null,
   "metadata": {
    "collapsed": false
   },
   "outputs": [],
   "source": []
  },
  {
   "cell_type": "code",
   "execution_count": null,
   "metadata": {
    "collapsed": true
   },
   "outputs": [],
   "source": []
  },
  {
   "cell_type": "code",
   "execution_count": null,
   "metadata": {
    "collapsed": true
   },
   "outputs": [],
   "source": []
  },
  {
   "cell_type": "code",
   "execution_count": null,
   "metadata": {
    "collapsed": false
   },
   "outputs": [],
   "source": []
  },
  {
   "cell_type": "code",
   "execution_count": null,
   "metadata": {
    "collapsed": false
   },
   "outputs": [],
   "source": []
  },
  {
   "cell_type": "code",
   "execution_count": null,
   "metadata": {
    "collapsed": true
   },
   "outputs": [],
   "source": []
  },
  {
   "cell_type": "code",
   "execution_count": null,
   "metadata": {
    "collapsed": true
   },
   "outputs": [],
   "source": []
  },
  {
   "cell_type": "code",
   "execution_count": null,
   "metadata": {
    "collapsed": true
   },
   "outputs": [],
   "source": []
  },
  {
   "cell_type": "code",
   "execution_count": null,
   "metadata": {
    "collapsed": true
   },
   "outputs": [],
   "source": []
  },
  {
   "cell_type": "code",
   "execution_count": null,
   "metadata": {
    "collapsed": true
   },
   "outputs": [],
   "source": []
  },
  {
   "cell_type": "code",
   "execution_count": null,
   "metadata": {
    "collapsed": true
   },
   "outputs": [],
   "source": []
  },
  {
   "cell_type": "code",
   "execution_count": null,
   "metadata": {
    "collapsed": true
   },
   "outputs": [],
   "source": []
  },
  {
   "cell_type": "code",
   "execution_count": null,
   "metadata": {
    "collapsed": true
   },
   "outputs": [],
   "source": []
  }
 ],
 "metadata": {
  "kernelspec": {
   "display_name": "Python 2",
   "language": "python",
   "name": "python2"
  },
  "language_info": {
   "codemirror_mode": {
    "name": "ipython",
    "version": 2
   },
   "file_extension": ".py",
   "mimetype": "text/x-python",
   "name": "python",
   "nbconvert_exporter": "python",
   "pygments_lexer": "ipython2",
   "version": "2.7.10"
  }
 },
 "nbformat": 4,
 "nbformat_minor": 0
}
