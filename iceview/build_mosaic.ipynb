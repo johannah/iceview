{
 "cells": [
  {
   "cell_type": "code",
   "execution_count": 451,
   "metadata": {
    "collapsed": false
   },
   "outputs": [
    {
     "name": "stdout",
     "output_type": "stream",
     "text": [
      "The autoreload extension is already loaded. To reload it, use:\n",
      "  %reload_ext autoreload\n"
     ]
    }
   ],
   "source": [
    "#!/usr/bin/env python\n",
    "\n",
    "from shutil import copyfile\n",
    "import subprocess\n",
    "from subprocess import Popen, PIPE\n",
    "from multiprocessing import Pool, freeze_support, cpu_count\n",
    "import matplotlib.pyplot as plt\n",
    "import itertools\n",
    "import os\n",
    "from glob import glob\n",
    "import numpy as np\n",
    "import argparse\n",
    "import sys\n",
    "import logging\n",
    "import cv2\n",
    "from copy import copy\n",
    "import logging\n",
    "logger = logging.getLogger()\n",
    "logger.setLevel(logging.DEBUG)\n",
    "import config\n",
    "import math\n",
    "from features import detect_and_extract\n",
    "%load_ext autoreload\n",
    "from mask import remove_empty_alpha\n",
    "%autoreload 2\n",
    "#from iceview.features import detect_and_extract\n",
    "#from iceview.models import find_two_matches\n",
    "#from iceview.mask import find_mask\n",
    "#import utils\n",
    "absolute_min_matches = 10\n",
    "\n",
    "%matplotlib inline\n"
   ]
  },
  {
   "cell_type": "code",
   "execution_count": 78,
   "metadata": {
    "collapsed": false
   },
   "outputs": [],
   "source": [
    "sift = cv2.SIFT()\n",
    "orb = cv2.ORB()\n",
    "surf = cv2.SURF()\n",
    "brisk = cv2.BRISK()"
   ]
  },
  {
   "cell_type": "code",
   "execution_count": 4,
   "metadata": {
    "collapsed": true
   },
   "outputs": [],
   "source": [
    "# put stuff here that should be changed \n",
    "input_dir = 'jo_patch/' \n",
    "input_image_type = '.jpg'\n",
    "output_dir = 'jo_out'\n",
    "output_image_type = '.jpg'\n",
    "wsize = (400,300)\n",
    "lfile = os.path.join(output_dir, 'mosaic_info.txt')"
   ]
  },
  {
   "cell_type": "code",
   "execution_count": 212,
   "metadata": {
    "collapsed": false
   },
   "outputs": [],
   "source": [
    "def prepare_inout():\n",
    "    in_files = glob(os.path.join(input_dir, '*%s' %input_image_type))\n",
    "    logging.info(\"Found %d images\" %len(in_files))\n",
    "\n",
    "\n",
    "    if not os.path.exists(output_dir):\n",
    "        os.mkdir(output_dir)\n",
    "    return in_files\n",
    "# should do something if there is stuff in the outputdir"
   ]
  },
  {
   "cell_type": "code",
   "execution_count": 213,
   "metadata": {
    "collapsed": true
   },
   "outputs": [],
   "source": []
  },
  {
   "cell_type": "code",
   "execution_count": 214,
   "metadata": {
    "collapsed": true
   },
   "outputs": [],
   "source": [
    "def cvKeypointMatcher(kp1, kp2, des1, des2, match_type=\"BruteForce\", min_ratio=0.7, reproj_thresh=4.0):\n",
    "    matcher = cv2.DescriptorMatcher_create(match_type)\n",
    "    \"\"\"\n",
    "    :reprojThresh is the maximum pixel “wiggle room” allowed by the RANSAC algorithm\n",
    "     \"\"\"\n",
    "    # raw_matches could contain false positives\n",
    "    raw_matches = matcher.knnMatch(des1, des2, 2)\n",
    "    matches = []\n",
    "    # loop over the raw matches to apply Lowe's ratio test to\n",
    "    #determine high-quality feature matches\n",
    "    for m in raw_matches:\n",
    "        # ensure the distance is within a certain ratio of each\n",
    "        # other (i.e. Lowe's ratio test)\n",
    "        # The reason we want the top two matches rather than just the top \n",
    "        # one match is because we need to apply David Lowe’s ratio test\n",
    "        # for false-positive match pruning.\n",
    "        if len(m) == 2 and m[0].distance < m[1].distance * min_ratio:\n",
    "            matches.append((m[0].trainIdx, m[0].queryIdx))\n",
    "            \n",
    "    # computing a homography requires at least 4 matches\n",
    "    if len(matches) > 4:\n",
    "        # construct the two sets of points\n",
    "        mat2, mat1 = zip(*matches)\n",
    "        #pts1 = kp1[np.asarray(mat2)].astype(np.float32)\n",
    "        #pts2 = kp2[np.asarray(mat1)].astype(np.float32)\n",
    "        pts1 = np.asarray([kp1[i] for (_, i) in matches], dtype=np.float32)\n",
    "        pts2 = np.asarray([kp2[i] for (i, _) in matches], dtype=np.float32)\n",
    "        # compute the homography between the two sets of points\n",
    "        # reprojThresh is the maximum pixel “wiggle room” allowed by the RANSAC algorithm\n",
    "        (H, status) = cv2.findHomography(pts1, pts2, cv2.RANSAC, reproj_thresh)\n",
    "\n",
    "        # return the matches along with the homograpy matrix\n",
    "        # and status of each matched point\n",
    "        return (matches, H, status)\n",
    "\n",
    "    # otherwise, no homograpy could be computed\n",
    "    return False"
   ]
  },
  {
   "cell_type": "code",
   "execution_count": 517,
   "metadata": {
    "collapsed": false
   },
   "outputs": [
    {
     "ename": "NameError",
     "evalue": "name 'DescriptorExtractor' is not defined",
     "output_type": "error",
     "traceback": [
      "\u001b[0;31m---------------------------------------------------------------------------\u001b[0m",
      "\u001b[0;31mNameError\u001b[0m                                 Traceback (most recent call last)",
      "\u001b[0;32m<ipython-input-517-6dfb413a5605>\u001b[0m in \u001b[0;36m<module>\u001b[0;34m()\u001b[0m\n\u001b[1;32m      1\u001b[0m \u001b[0;31m#from skimage.feature.util import _mask_border_keypoints, DescriptorExtractor\u001b[0m\u001b[0;34m\u001b[0m\u001b[0;34m\u001b[0m\u001b[0m\n\u001b[0;32m----> 2\u001b[0;31m \u001b[0;32mclass\u001b[0m \u001b[0mzernike\u001b[0m\u001b[0;34m(\u001b[0m\u001b[0mDescriptorExtractor\u001b[0m\u001b[0;34m)\u001b[0m\u001b[0;34m:\u001b[0m\u001b[0;34m\u001b[0m\u001b[0m\n\u001b[0m\u001b[1;32m      3\u001b[0m \u001b[0;34m\u001b[0m\u001b[0m\n\u001b[1;32m      4\u001b[0m     def __init__(self, descriptor_size=256, patch_size=49,\n\u001b[1;32m      5\u001b[0m                   sigma=1, sample_seed=1):\n",
      "\u001b[0;31mNameError\u001b[0m: name 'DescriptorExtractor' is not defined"
     ]
    }
   ],
   "source": [
    "#from skimage.feature.util import _mask_border_keypoints, DescriptorExtractor\n",
    "class zernike(DescriptorExtractor):\n",
    "    \n",
    "    def __init__(self, descriptor_size=256, patch_size=49,\n",
    "                  sigma=1, sample_seed=1):\n",
    "        self.descriptor_size = descriptor_size\n",
    "        self.patch_size = patch_size\n",
    "        self.sigma = sigma\n",
    "        self.sample_seed = sample_seed\n",
    "\n",
    "        self.descriptors = None\n",
    "        self.mask = None\n",
    "    \n",
    "    def extract(self, image, keypoints):\n",
    "        patch_size = self.patch_size\n",
    "        desc_size = self.descriptor_size\n",
    "        random = np.random.RandomState()\n",
    "        random.seed(self.sample_seed)\n",
    "        samples = (patch_size / 5.0) * random.randn(desc_size * 8)\n",
    "        samples = np.array(samples, dtype=np.int32)\n",
    "        samples = samples[(samples < (patch_size // 2))\n",
    "                          & (samples > - (patch_size - 2) // 2)]\n",
    "\n",
    "        pos1 = samples[:desc_size * 2].reshape(desc_size, 2)\n",
    "        pos2 = samples[desc_size * 2:desc_size * 4].reshape(desc_size, 2)\n",
    "        \n",
    "        pos1 = np.ascontiguousarray(pos1)\n",
    "        pos2 = np.ascontiguousarray(pos2)\n",
    "        self.mask = _mask_border_keypoints(image.shape, keypoints,\n",
    "                                           patch_size // 2)\n",
    "        keypoints = np.array(keypoints[self.mask, :], dtype=np.intp,\n",
    "                             order='C', copy=False)\n",
    "        self.descriptors = np.zeros((keypoints.shape[0], desc_size),\n",
    "                                    dtype=bool, order='C')\n",
    "        \n",
    "        _zern_loop(image, self.descriptors.view(np.uint8), keypoints,\n",
    "                    pos1, pos2)\n",
    "        \n",
    "def _zern_loop(image, descriptors, keypoints, pos0, pos1):\n",
    "    for p in range(pos0.shape[0]):\n",
    "        pr0 = pos0[p, 0]\n",
    "        pc0 = pos0[p, 1]\n",
    "        pr1 = pos1[p, 0]\n",
    "        pc1 = pos1[p, 1]\n",
    "        for k in range(keypoints.shape[0]):\n",
    "            kr = keypoints[k, 0]\n",
    "            kc = keypoints[k, 1]\n",
    "            if image[kr + pr0, kc + pc0] < image[kr + pr1, kc + pc1]:\n",
    "                descriptors[k, p] = True\n",
    "                from mahotas.features import zernike_moments\n",
    "\n",
    "br1 = zernike()\n",
    "#keypoints = corner_peaks(corner_harris(img1), min_distance=5)\n",
    "keypoints1 = corner_peaks(corner_harris(img1, method='eps', eps=.001, sigma=3), min_distance=5)\n",
    "br1.extract(img1, keypoints1)\n",
    "descriptors1 = br1.descriptors\n",
    "keypoints1 = keypoints1[br1.mask]\n",
    "\n",
    "br2 = zernike()\n",
    "#keypoints1 = corner_peaks(corner_harris(img2), min_distance=5)\n",
    "keypoints2 = corner_peaks(corner_harris(img2, method='eps', eps=.001, sigma=3), min_distance=5)\n",
    "br2.extract(img2, keypoints)\n",
    "descriptors2 = br2.descriptors\n",
    "keypoints2 = keypoints2[br2.mask]"
   ]
  },
  {
   "cell_type": "code",
   "execution_count": 518,
   "metadata": {
    "collapsed": false
   },
   "outputs": [
    {
     "ename": "NameError",
     "evalue": "name 'img1o' is not defined",
     "output_type": "error",
     "traceback": [
      "\u001b[0;31m---------------------------------------------------------------------------\u001b[0m",
      "\u001b[0;31mNameError\u001b[0m                                 Traceback (most recent call last)",
      "\u001b[0;32m<ipython-input-518-3b45896ab093>\u001b[0m in \u001b[0;36m<module>\u001b[0;34m()\u001b[0m\n\u001b[1;32m      1\u001b[0m \u001b[0;31m# images should be single channel and fairly small\u001b[0m\u001b[0;34m\u001b[0m\u001b[0;34m\u001b[0m\u001b[0m\n\u001b[0;32m----> 2\u001b[0;31m \u001b[0mimg1\u001b[0m \u001b[0;34m=\u001b[0m \u001b[0mcv2\u001b[0m\u001b[0;34m.\u001b[0m\u001b[0mresize\u001b[0m\u001b[0;34m(\u001b[0m\u001b[0mimg1o\u001b[0m\u001b[0;34m,\u001b[0m \u001b[0;34m(\u001b[0m\u001b[0;36m400\u001b[0m\u001b[0;34m,\u001b[0m\u001b[0;36m300\u001b[0m\u001b[0;34m)\u001b[0m\u001b[0;34m)\u001b[0m\u001b[0;34m\u001b[0m\u001b[0m\n\u001b[0m\u001b[1;32m      3\u001b[0m \u001b[0mimgt\u001b[0m \u001b[0;34m=\u001b[0m \u001b[0mcv2\u001b[0m\u001b[0;34m.\u001b[0m\u001b[0mcvtColor\u001b[0m\u001b[0;34m(\u001b[0m\u001b[0mimg1\u001b[0m\u001b[0;34m,\u001b[0m\u001b[0mcv2\u001b[0m\u001b[0;34m.\u001b[0m\u001b[0mCOLOR_RGB2GRAY\u001b[0m\u001b[0;34m)\u001b[0m\u001b[0;34m\u001b[0m\u001b[0m\n",
      "\u001b[0;31mNameError\u001b[0m: name 'img1o' is not defined"
     ]
    }
   ],
   "source": [
    "# images should be single channel and fairly small\n",
    "img1 = cv2.resize(img1o, (400,300))\n",
    "imgt = cv2.cvtColor(img1,cv2.COLOR_RGB2GRAY)"
   ]
  },
  {
   "cell_type": "code",
   "execution_count": 519,
   "metadata": {
    "collapsed": true
   },
   "outputs": [],
   "source": [
    "def mosaic2imgs(img1, img2, detector, do_plot=False):\n",
    "    k1, d1 = getKeypointandDescriptors(img1, detector)\n",
    "    k2, d2 = getKeypointandDescriptors(img2, detector)\n",
    "    M =  cvKeypointMatcher(k1, k2, d1, d2, \"BruteForce\", 0.7, 4.0)\n",
    "    return \n",
    "    if M is None:\n",
    "        print(\"Not a match\")\n",
    "        return None\n",
    "    else:\n",
    "        # H is the 3x3 transformation matrix\n",
    "        (matches, H, status) = M\n",
    "        #result = cv2.warpPerspective(img1, H, (img1.shape[1] + img2.shape[1], img1.shape[0]))\n",
    "        #result[0:img2.shape[0], 0:img2.shape[1]] = img2\n",
    "        h1,w1 = img1.shape[:2]\n",
    "        h2,w2 = img2.shape[:2]\n",
    "        \n",
    "        dsize = (img1.shape[0] + img2.shape[0], img1.shape[1] )\n",
    "        #print(dsize)\n",
    "        result = cv2.warpPerspective(img1, H, dsize)\n",
    "        result[0:img2.shape[0], 0:img2.shape[1]] = img2\n",
    "\n",
    "        #if do_plot:\n",
    "        #    vis = self.drawMatches(img1, img2, k1, k2, matches, status)\n",
    "\n",
    "        #    # return a tuple of the stitched image and the\n",
    "        #    # visualization\n",
    "        #    return (result, vis)\n",
    "\n",
    "        # return the stitched image\n",
    "        return result\n"
   ]
  },
  {
   "cell_type": "code",
   "execution_count": 520,
   "metadata": {
    "collapsed": false
   },
   "outputs": [],
   "source": [
    "def copy_new_files(in_files):\n",
    "    ofiles = []\n",
    "    imgs = []\n",
    "    logging.info(\"Using convert to transfer and scan input images\")\n",
    "    for iimg in sorted(in_files):\n",
    "        ofile = os.path.join(output_dir, os.path.basename(iimg))\n",
    "        print(ofile)\n",
    "        ofiles.append(ofile)\n",
    "        if not os.path.exists(ofile):\n",
    "            cmd = \"convert %s -resize %dx%d %s\" %(iimg,wsize[0], wsize[1], ofile)\n",
    "            os.system(cmd)\n",
    "            logging.info(\"Calling %s\" %cmd)\n",
    "            \n",
    "        else:\n",
    "            logging.info(\"The file %s already exists\" %ofile)\n",
    "        # load as greyscale image\n",
    "        i = cv2.imread(ofile, 0)\n",
    "        # TODO: check orientation of photo, as we will need to address shape\n",
    "        bn = os.path.basename(ofile)\n",
    "        ftfile = ofile + '.ft'\n",
    "        if os.path.exists(ftfile):\n",
    "            ft = pickle.load(open(ftfile, 'r'))\n",
    "        else:\n",
    "            ft = {}\n",
    "        imgs.append({'img':i, 'name':bn, 'feat':ft})\n",
    "            \n",
    "    return imgs\n"
   ]
  },
  {
   "cell_type": "code",
   "execution_count": null,
   "metadata": {
    "collapsed": false
   },
   "outputs": [],
   "source": []
  },
  {
   "cell_type": "code",
   "execution_count": 521,
   "metadata": {
    "collapsed": true
   },
   "outputs": [],
   "source": [
    "def filter_matches(matches, ratio = 0.75):\n",
    "    filtered_matches = []\n",
    "    for m in matches:\n",
    "        if len(m) == 2 and m[0].distance < m[1].distance * ratio:\n",
    "            filtered_matches.append(m[0])\n",
    "\n",
    "    return filtered_matches\n",
    "\n",
    "def imageDistance(matches):\n",
    "    sumDistance = 0.0\n",
    "    for match in matches:\n",
    "        sumDistance += match.distance\n",
    "    return sumDistance\n",
    "\n",
    "\n",
    "\n",
    "def findDimensions(image, bimg, H_inv, H):\n",
    "    base_p1 = np.ones(3, np.float32)\n",
    "    base_p2 = np.ones(3, np.float32)\n",
    "    base_p3 = np.ones(3, np.float32)\n",
    "    base_p4 = np.ones(3, np.float32)\n",
    "\n",
    "    (y, x) = image.shape[:2]\n",
    "\n",
    "    base_p1[:2] = [0,0]\n",
    "    base_p2[:2] = [x,0]\n",
    "    base_p3[:2] = [0,y]\n",
    "    base_p4[:2] = [x,y]\n",
    "\n",
    "    max_x = None\n",
    "    max_y = None\n",
    "    min_x = None\n",
    "    min_y = None\n",
    "\n",
    "    for pt in [base_p1, base_p2, base_p3, base_p4]:\n",
    "        hp = np.matrix(H_inv, np.float32) * np.matrix(pt, np.float32).T\n",
    "        hp_arr = np.array(hp, np.float32)\n",
    "        normal_pt = np.array([hp_arr[0]/hp_arr[2], hp_arr[1]/hp_arr[2]], np.float32)\n",
    "        if ( max_x == None or normal_pt[0,0] > max_x ):\n",
    "            max_x = normal_pt[0,0]\n",
    "        if ( max_y == None or normal_pt[1,0] > max_y ):\n",
    "            max_y = normal_pt[1,0]\n",
    "        if ( min_x == None or normal_pt[0,0] < min_x ):\n",
    "            min_x = normal_pt[0,0]\n",
    "        if ( min_y == None or normal_pt[1,0] < min_y ):\n",
    "            min_y = normal_pt[1,0]\n",
    "\n",
    "    min_x = min(0, min_x)\n",
    "    min_y = min(0, min_y)\n",
    "    \n",
    "    max_x = max(max_x, bimg.shape[1]+1)\n",
    "    max_y = max(max_y, bimg.shape[0]+1)\n",
    "\n",
    "    move_h = np.matrix(np.identity(3), np.float32)\n",
    "\n",
    "    if ( min_x < 0 ):\n",
    "        move_h[0,2] += -min_x\n",
    "        max_x += -min_x\n",
    "\n",
    "    if ( min_y < 0 ):\n",
    "        move_h[1,2] += -min_y\n",
    "        max_y += -min_y\n",
    "\n",
    "    mod_inv_h = move_h * H_inv\n",
    "\n",
    "    return min_x, min_y, max_x, max_y, move_h, mod_inv_h\n",
    "\n",
    "def getKeypointandDescriptors(img, detector):\n",
    "    kps, des = detector.detectAndCompute(img, None)\n",
    "    #kp = np.float32([kp.pt for kp in kps])\n",
    "    return kps, des\n"
   ]
  },
  {
   "cell_type": "code",
   "execution_count": 565,
   "metadata": {
    "collapsed": false
   },
   "outputs": [],
   "source": [
    "class AlignImagesRansac(object):\n",
    " \n",
    "    def __init__(self, input_dir, output_dir, img_type='.jpg'):\n",
    "        '''\n",
    "        image_dir: 'directory' containing all images\n",
    "        key_frame: 'dir/name.jpg' of the base image\n",
    "        output_dir: 'directory' where to save output images\n",
    "        optional: \n",
    "        img_filter = 'jpg'; None->Take all images\n",
    "        '''\n",
    "        self.input_dir = input_dir\n",
    "        self.output_dir = output_dir\n",
    "        self.img_type = img_type\n",
    "        self.copy_new_imgs()\n",
    "\n",
    "        self.detector = cv2.SIFT()\n",
    "        \n",
    "        # Parameters for nearest-neighbor matching\n",
    "        FLANN_INDEX_KDTREE = 1  # bug: flann enums are missing\n",
    "        flann_params = dict(algorithm = FLANN_INDEX_KDTREE, \n",
    "            trees = 5)\n",
    "        self.matcher = cv2.FlannBasedMatcher(flann_params, {})\n",
    "        \n",
    "        self.stitchImages(0) \n",
    "        \n",
    "        \n",
    "    def copy_new_imgs(self): \n",
    "        if not os.path.exists(self.output_dir):\n",
    "            os.mkdir(self.output_dir)\n",
    "        search = os.path.join(self.input_dir, '*%s' %self.img_type)\n",
    "        ll = glob(search)  \n",
    "        for in_path in ll:\n",
    "            outpath = os.path.join(self.output_dir, os.path.basename(in_path))\n",
    "            if not os.path.exists(outpath):\n",
    "                cmd = 'cp %s %s' %(in_path, outpath)\n",
    "                logging.info(\"Copying image from input to output dir: %s\" %cmd)\n",
    "                os.system(cmd)\n",
    "            else:\n",
    "                logging.info(\"Output file already exists, skipping: %s\" %outpath)\n",
    "        \n",
    "    def get_img_vals(self, img_path, mask=None):\n",
    "        img_rgb = cv2.imread(img_path)\n",
    "        img_g = cv2.cvtColor(img_rgb, cv2.COLOR_RGB2GRAY)\n",
    "        # Find key points in base image \n",
    "        k, d = getKeypointandDescriptors(img_g, self.detector)\n",
    "        return img_rgb, img_g, k, d  \n",
    "    \n",
    "    def match_two_cv(self, bn, n, pair_num, this_round):\n",
    "        final_name =\"R%03d_P%05d.jpg\" %(this_round, pair_num)\n",
    "        print(\"THIS ROUND\", this_round, bn, n, final_name)\n",
    "        bk = self.imgs[bn]['k']\n",
    "        bd = self.imgs[bn]['d']\n",
    "        bimg = self.imgs[bn]['g']\n",
    "        inlierRatio = 0.0\n",
    "        # match image\n",
    "\n",
    "        #or example: the H that transforms image 3 \n",
    "        #to line up with image 0 is H_03 = H_01 * H_12 * H_23.\n",
    "        #Where H_01 is the H that transforms image 1 to \n",
    "        #line up with image 0. (Depending on the way their \n",
    "        #code defines H, you might need to reverse the \n",
    "        #above multiplication order.) So you would multiply \n",
    "        #to obtain H_0i and then use it to transform image i \n",
    "        #to line up with image 0.\n",
    "        nk = self.imgs[n]['k']\n",
    "        nd = self.imgs[n]['d']\n",
    "        nimg = self.imgs[n]['g']\n",
    "        \n",
    "        inlierRatio, matches_subset, H = self.find_inliers(bk, bd, nk, nd)\n",
    "        \n",
    "        if inlierRatio > 0.7:\n",
    "            # get the rgb versions, so we can ultimately work with them instead\n",
    "            brgb = self.imgs[bn]['rgb']\n",
    "            nrgb = self.imgs[n]['rgb']\n",
    "\n",
    "            # I dont think this step is necessary - should be H[2,2] is 1.0\n",
    "            #H = H / H[2,2]\n",
    "            H_inv = np.linalg.inv(H)\n",
    "            # use the inverse homography to get the dimensions of the next image\n",
    "            min_x, min_y, max_x, max_y, move_h, mod_inv_h = findDimensions(nimg, bimg, H_inv, H)\n",
    "            img_w = int(math.ceil(max_x))\n",
    "            img_h = int(math.ceil(max_y))\n",
    "            \n",
    "            # Warp the new image given the homography from the old image\n",
    "            brgb_warp = cv2.warpPerspective(brgb, move_h, (img_w, img_h))\n",
    "            nrgb_warp = cv2.warpPerspective(nrgb, mod_inv_h, (img_w, img_h))\n",
    "\n",
    "\n",
    "            # Put the base image on an enlarged palette\n",
    "           \n",
    "            enlarged_brgb_img = np.zeros((img_h, img_w,3), np.uint8)\n",
    "\n",
    "            # Create a mask from the warped image for constructing masked composite\n",
    "            (ret,data_map) = cv2.threshold(cv2.cvtColor(nrgb_warp, cv2.COLOR_RGB2GRAY), \n",
    "                0, 255, cv2.THRESH_BINARY)\n",
    "            \n",
    "            base_warp = cv2.add(enlarged_brgb_img, brgb_warp, \n",
    "                mask=np.bitwise_not(data_map), \n",
    "                dtype=cv2.CV_8U)\n",
    "        \n",
    "            \n",
    "            \n",
    "            # Now add the warped image\n",
    "            base_warp = cv2.cvtColor(brgb_warp, cv2.COLOR_RGB2GRAY)\n",
    "            next_warp = cv2.cvtColor(nrgb_warp,cv2.COLOR_RGB2GRAY)\n",
    "            \n",
    "            #final_img = cv2.add(base_warp, next_warp, \n",
    "            #                dtype=cv2.CV_8U)\n",
    "            #base_warp[:,:,0][base_warp[:,:,0] == 0] = -1\n",
    "            #next_warp[:,:,0][next_warp[:,:,0] == 0] = -1\n",
    "            # create image masks\n",
    "            base_mask = np.zeros(base_warp.shape)\n",
    "            base_mask[base_warp > 0] = 1\n",
    "            #base_warp[~base_mask] = 0\n",
    "            base_alpha = np.dstack((brgb_warp, base_mask))\n",
    "            #next_mask = (next_warp[:,:,0] != -1)\n",
    "            #next_warp[~next_mask] = 0\n",
    "            next_mask = np.zeros(next_warp.shape)\n",
    "            next_mask[next_warp > 0] = 1\n",
    "            next_alpha = np.dstack((nrgb_warp, next_mask))\n",
    "            plt.imsave(\"img_mask.jpg\", next_mask)\n",
    "            td = config.tmp_dir\n",
    "            tmp_base = os.path.join(td, 'tmp_' + '.'.join(bn.split('.')[:-1]) + '.png')\n",
    "            tmp_img = os.path.join(td, 'tmp_' + '.'.join(n.split('.')[:-1]) + '.png')\n",
    "            tmp_out = os.path.join(td, 'tmp_out_' + '.'.join(bn.split('.')[:-1]) + '.png')\n",
    "            #cv2.imwrite(tmp_base, base_alpha)\n",
    "            #cv2.imwrite(tmp_img, next_alpha)\n",
    "            plt.imsave(tmp_base, base_alpha)\n",
    "            plt.imsave(tmp_img, next_alpha)\n",
    "\n",
    "            cmd = ['enblend', tmp_base, tmp_img, '-o', tmp_out]\n",
    "\n",
    "            p = Popen(cmd, stdin=PIPE, stdout=PIPE, stderr=PIPE)\n",
    "            output, err = p.communicate(b\"input data that is passed to subprocess' stdin\")\n",
    "            \n",
    "            rc = p.returncode\n",
    "            if os.path.exists(tmp_out):\n",
    "                final_img = imread(tmp_out)\n",
    "                #oute = remove_empty_alpha(out)\n",
    "                #os.remove(tmp_base)\n",
    "                #os.remove(tmp_img)\n",
    "                #os.remove(tmp_out)\n",
    "               \n",
    "                if False:\n",
    "                # Crop off the black edges\n",
    "                    final_gray = cv2.cvtColor(final_img, cv2.COLOR_RGB2GRAY)\n",
    "                    _, thresh = cv2.threshold(final_gray, 1, 255, cv2.THRESH_BINARY)\n",
    "                    contours, _ = cv2.findContours(thresh, cv2.RETR_EXTERNAL, cv2.CHAIN_APPROX_NONE)\n",
    "\n",
    "                    max_area = 0\n",
    "                    best_rect = (0,0,0,0)\n",
    "\n",
    "                    for cnt in contours:\n",
    "                        x,y,w,h = cv2.boundingRect(cnt)\n",
    "                        deltaHeight = h-y\n",
    "                        deltaWidth = w-x\n",
    "                        area = deltaHeight * deltaWidth\n",
    "\n",
    "                        if ( area > max_area and deltaHeight > 0 and deltaWidth > 0):\n",
    "                            max_area = area\n",
    "                            best_rect = (x,y,w,h)\n",
    "\n",
    "                    if ( max_area > 0 ):\n",
    "\n",
    "                        final_img_crop = final_img[best_rect[1]:best_rect[1]+best_rect[3],\n",
    "                                best_rect[0]:best_rect[0]+best_rect[2]]\n",
    "\n",
    "                        final_img = final_img_crop\n",
    "\n",
    "                # Write out the current round\n",
    "                final_filename = \"%s\" % (os.path.join(self.output_dir, final_name))\n",
    "                cv2.imwrite(final_filename, final_img)\n",
    "                os.remove(self.imgs[bn]['path'])\n",
    "                os.remove(self.imgs[n]['path'])\n",
    "                \n",
    "\n",
    "            \n",
    "    def find_inliers(self, bk, bd, nk, nd):\n",
    "        matches = self.matcher.knnMatch(nd, bd, k=2)\n",
    "        matches_subset = filter_matches(matches)\n",
    "\n",
    "        kp1 = []\n",
    "        kp2 = []\n",
    "\n",
    "        for match in matches_subset:\n",
    "            kp1.append(bk[match.trainIdx])\n",
    "            kp2.append(nk[match.queryIdx])\n",
    "        # TODO set min num matches\n",
    "        p1 = np.array([k.pt for k in kp1])\n",
    "        p2 = np.array([k.pt for k in kp2])\n",
    "        H, status = cv2.findHomography(p1, p2, cv2.RANSAC, 5.0)\n",
    "        inlierRatio = float(np.sum(status)) / float(len(status))\n",
    "    \n",
    "        return inlierRatio, matches_subset, H\n",
    "    \n",
    "    def load_imgs(self, img_list):\n",
    "        imgs = {}\n",
    "        for img_path in self.img_list:\n",
    "            img_rgb, img, k, d = self.get_img_vals(img_path)\n",
    "            bn = os.path.basename(img_path)\n",
    "            imgs[bn] = {'rgb':img_rgb, 'g':img, 'k':k, 'd':d, 'path':img_path}\n",
    "        return imgs    \n",
    "                \n",
    "    def stitchImages(self, this_round=0):\n",
    "        \n",
    "        # Find the best next image from the remaining images\n",
    "        \n",
    "        search = os.path.join(self.output_dir, '*%s' %self.img_type)\n",
    "        self.img_list = glob(search)  \n",
    "        self.imgs = self.load_imgs(self.img_list)\n",
    "        self.img_list_base = [os.path.basename(x) for x in self.img_list]\n",
    "        print(\"ROUND\", this_round, \"USING\", self.img_list_base)\n",
    "        if len(self.img_list_base) > 1:\n",
    "            for pair_num, xx in enumerate(range(0, len(self.img_list_base)-1, 2)):\n",
    "                # base img\n",
    "                bn = self.img_list_base[xx]\n",
    "                n = self.img_list_base[xx+1]\n",
    "                self.match_two_cv(bn, n, pair_num, this_round)\n",
    "\n",
    "            #return self.stitchImages(this_round+1)\n",
    "        else:\n",
    "            print(\"ONE LEFT\", self.img_list_base, len(self.img_list_base))\n",
    "\n",
    "        \n",
    "        "
   ]
  },
  {
   "cell_type": "code",
   "execution_count": 566,
   "metadata": {
    "collapsed": false,
    "scrolled": true
   },
   "outputs": [
    {
     "name": "stderr",
     "output_type": "stream",
     "text": [
      "INFO:root:Output file already exists, skipping: adir/jo_pic_000.jpg\n",
      "INFO:root:Output file already exists, skipping: adir/jo_pic_001.jpg\n",
      "INFO:root:Output file already exists, skipping: adir/jo_pic_002.jpg\n",
      "INFO:root:Output file already exists, skipping: adir/jo_pic_003.jpg\n",
      "INFO:root:Output file already exists, skipping: adir/jo_pic_004.jpg\n",
      "INFO:root:Output file already exists, skipping: adir/jo_pic_005.jpg\n",
      "DEBUG:PIL.PngImagePlugin:STREAM IHDR 16 13\n",
      "DEBUG:PIL.PngImagePlugin:STREAM pHYs 41 9\n",
      "DEBUG:PIL.PngImagePlugin:STREAM IDAT 62 8192\n"
     ]
    },
    {
     "name": "stdout",
     "output_type": "stream",
     "text": [
      "('ROUND', 0, 'USING', ['jo_pic_000.jpg', 'jo_pic_001.jpg', 'jo_pic_002.jpg', 'jo_pic_003.jpg', 'jo_pic_004.jpg', 'jo_pic_005.jpg', 'R000_P00002.jpg', 'R000_P00003.jpg'])\n",
      "('THIS ROUND', 0, 'jo_pic_000.jpg', 'jo_pic_001.jpg', 'R000_P00000.jpg')\n",
      "('THIS ROUND', 0, 'jo_pic_002.jpg', 'jo_pic_003.jpg', 'R000_P00001.jpg')"
     ]
    },
    {
     "name": "stderr",
     "output_type": "stream",
     "text": [
      "DEBUG:PIL.PngImagePlugin:STREAM IHDR 16 13\n",
      "DEBUG:PIL.PngImagePlugin:STREAM pHYs 41 9\n",
      "DEBUG:PIL.PngImagePlugin:STREAM IDAT 62 8192\n"
     ]
    },
    {
     "name": "stdout",
     "output_type": "stream",
     "text": [
      "\n",
      "('THIS ROUND', 0, 'jo_pic_004.jpg', 'jo_pic_005.jpg', 'R000_P00002.jpg')"
     ]
    },
    {
     "name": "stderr",
     "output_type": "stream",
     "text": [
      "DEBUG:PIL.PngImagePlugin:STREAM IHDR 16 13\n",
      "DEBUG:PIL.PngImagePlugin:STREAM pHYs 41 9\n",
      "DEBUG:PIL.PngImagePlugin:STREAM IDAT 62 8192\n"
     ]
    },
    {
     "name": "stdout",
     "output_type": "stream",
     "text": [
      "\n",
      "('THIS ROUND', 0, 'R000_P00002.jpg', 'R000_P00003.jpg', 'R000_P00003.jpg')\n"
     ]
    },
    {
     "data": {
      "text/plain": [
       "<__main__.AlignImagesRansac at 0x11ffcbad0>"
      ]
     },
     "execution_count": 566,
     "metadata": {},
     "output_type": "execute_result"
    }
   ],
   "source": [
    "from models import find_two_matches\n",
    "%autoreload \n",
    "AlignImagesRansac('jo_out/', 'adir')"
   ]
  },
  {
   "cell_type": "code",
   "execution_count": null,
   "metadata": {
    "collapsed": false
   },
   "outputs": [],
   "source": [
    "a = [5, 7, 11, 4, 5, 5555, 6, 88]\n",
    "print(len(a))\n",
    "for x in range(0, len(a)-1, 2):\n",
    "    print(x, a[x], a[x+1])"
   ]
  },
  {
   "cell_type": "code",
   "execution_count": null,
   "metadata": {
    "collapsed": true
   },
   "outputs": [],
   "source": [
    "A = cv2.imread('apple.jpg')\n",
    "B = cv2.imread('orange.jpg')\n",
    "    6 \n",
    "    7 # generate Gaussian pyramid for A\n",
    "    8 G = A.copy()\n",
    "    9 gpA = [G]\n",
    "   10 for i in xrange(6):\n",
    "   11     G = cv2.pyrDown(G)\n",
    "   12     gpA.append(G)\n",
    "   13 \n",
    "   14 # generate Gaussian pyramid for B\n",
    "   15 G = B.copy()\n",
    "   16 gpB = [G]\n",
    "   17 for i in xrange(6):\n",
    "   18     G = cv2.pyrDown(G)\n",
    "   19     gpB.append(G)\n",
    "   20 \n",
    "   21 # generate Laplacian Pyramid for A\n",
    "   22 lpA = [gpA[5]]\n",
    "   23 for i in xrange(5,0,-1):\n",
    "   24     GE = cv2.pyrUp(gpA[i])\n",
    "   25     L = cv2.subtract(gpA[i-1],GE)\n",
    "   26     lpA.append(L)\n",
    "   27 \n",
    "   28 # generate Laplacian Pyramid for B\n",
    "   29 lpB = [gpB[5]]\n",
    "   30 for i in xrange(5,0,-1):\n",
    "   31     GE = cv2.pyrUp(gpB[i])\n",
    "   32     L = cv2.subtract(gpB[i-1],GE)\n",
    "   33     lpB.append(L)\n",
    "   34 \n",
    "   35 # Now add left and right halves of images in each level\n",
    "   36 LS = []\n",
    "   37 for la,lb in zip(lpA,lpB):\n",
    "   38     rows,cols,dpt = la.shape\n",
    "   39     ls = np.hstack((la[:,0:cols/2], lb[:,cols/2:]))\n",
    "   40     LS.append(ls)\n",
    "   41 \n",
    "   42 # now reconstruct\n",
    "   43 ls_ = LS[0]\n",
    "   44 for i in xrange(1,6):\n",
    "   45     ls_ = cv2.pyrUp(ls_)\n",
    "   46     ls_ = cv2.add(ls_, LS[i])\n",
    "   47 \n",
    "   48 # image with direct connecting each half\n",
    "   49 real = np.hstack((A[:,:cols/2],B[:,cols/2:]))\n",
    "   50 \n",
    "   51 cv2.imwrite('Pyramid_blending2.jpg',ls_)\n",
    "   52 cv2.imwrite('Direct_blending.jpg',real)"
   ]
  },
  {
   "cell_type": "code",
   "execution_count": null,
   "metadata": {
    "collapsed": true
   },
   "outputs": [],
   "source": [
    "            if False:\n"
   ]
  },
  {
   "cell_type": "code",
   "execution_count": 260,
   "metadata": {
    "collapsed": false
   },
   "outputs": [],
   "source": [
    "from skimage.data import imread\n",
    "from skimage.feature import (ORB, match_descriptors, corner_harris,\n",
    "                             plot_matches)\n",
    "\n",
    "orb = ORB(n_keypoints=40, downscale=1.2, n_scales=20, harris_k=.04,\n",
    "              fast_threshold=0.05)"
   ]
  },
  {
   "cell_type": "code",
   "execution_count": 261,
   "metadata": {
    "collapsed": true
   },
   "outputs": [],
   "source": [
    "bimg = imgs[0]['img']\n",
    "nimg = imgs[1]['img']"
   ]
  },
  {
   "cell_type": "code",
   "execution_count": 264,
   "metadata": {
    "collapsed": false
   },
   "outputs": [],
   "source": [
    "bk, bd = detect_and_extract(orb, bimg)\n",
    "nk, nd = detect_and_extract(orb, nimg)"
   ]
  },
  {
   "cell_type": "code",
   "execution_count": 265,
   "metadata": {
    "collapsed": true
   },
   "outputs": [],
   "source": [
    "matches = match_descriptors(bd, nd)"
   ]
  },
  {
   "cell_type": "code",
   "execution_count": 276,
   "metadata": {
    "collapsed": false
   },
   "outputs": [
    {
     "data": {
      "text/plain": [
       "(40, 256)"
      ]
     },
     "execution_count": 276,
     "metadata": {},
     "output_type": "execute_result"
    }
   ],
   "source": [
    "bd.shape"
   ]
  },
  {
   "cell_type": "code",
   "execution_count": 304,
   "metadata": {
    "collapsed": false
   },
   "outputs": [],
   "source": [
    "k,d = sift.detectAndCompute(bimg, None)\n",
    "k1,d1 = sift.detectAndCompute(nimg, None)"
   ]
  },
  {
   "cell_type": "code",
   "execution_count": 305,
   "metadata": {
    "collapsed": false
   },
   "outputs": [
    {
     "data": {
      "text/plain": [
       "(775, 128)"
      ]
     },
     "execution_count": 305,
     "metadata": {},
     "output_type": "execute_result"
    }
   ],
   "source": [
    "d1.shape"
   ]
  },
  {
   "cell_type": "code",
   "execution_count": 306,
   "metadata": {
    "collapsed": false
   },
   "outputs": [
    {
     "data": {
      "text/plain": [
       "(40, 256)"
      ]
     },
     "execution_count": 306,
     "metadata": {},
     "output_type": "execute_result"
    }
   ],
   "source": [
    "bd.shape"
   ]
  },
  {
   "cell_type": "code",
   "execution_count": 307,
   "metadata": {
    "collapsed": false
   },
   "outputs": [],
   "source": [
    "m = match_descriptors(d, d1)"
   ]
  },
  {
   "cell_type": "code",
   "execution_count": 561,
   "metadata": {
    "collapsed": false
   },
   "outputs": [],
   "source": [
    "i = cv2.imread('IMG_1765.jpg')"
   ]
  },
  {
   "cell_type": "code",
   "execution_count": 562,
   "metadata": {
    "collapsed": false
   },
   "outputs": [
    {
     "name": "stdout",
     "output_type": "stream",
     "text": [
      "IMG_1765.jpg              \u001b[1m\u001b[32mdji_0029.dng\u001b[m\u001b[m*             mask.py\r\n",
      "IMG_1767.jpg              \u001b[1m\u001b[32mdsc02820.jpg\u001b[m\u001b[m*             mask.pyc\r\n",
      "IMG_1771.jpg              \u001b[1m\u001b[32mdsc02821.jpg\u001b[m\u001b[m*             match-gpx-images.ipynb\r\n",
      "IMG_1772.jpg              \u001b[1m\u001b[32mdsc04743.jpg\u001b[m\u001b[m*             models.py\r\n",
      "__init__.py               \u001b[1m\u001b[32mdsc04744.jpg\u001b[m\u001b[m*             models.pyc\r\n",
      "__init__.pyc              \u001b[1m\u001b[32mdsc05518.jpg\u001b[m\u001b[m*             mosaic-as-py.ipynb\r\n",
      "\u001b[36m__pycache__\u001b[m\u001b[m/              \u001b[1m\u001b[32mdsc05519.jpg\u001b[m\u001b[m*             mosaic.ipynb\r\n",
      "\u001b[36madir\u001b[m\u001b[m/                     \u001b[1m\u001b[32mdsc05524.jpg\u001b[m\u001b[m*             patches.py\r\n",
      "\u001b[36maout\u001b[m\u001b[m/                     \u001b[1m\u001b[32mdsc05525.jpg\u001b[m\u001b[m*             rot45.png\r\n",
      "build_mosaic.ipynb        ex.csv                    siftDemoV4.zip\r\n",
      "build_mosaic.py           features.py               utils.py\r\n",
      "compare-approaches.ipynb  features.pyc              utils.pyc\r\n",
      "config.py                 img_mask.jpg              write_photo_gpx_file.py\r\n",
      "config.pyc                \u001b[36mjo_out\u001b[m\u001b[m/\r\n",
      "\u001b[1m\u001b[32mdji_0028.dng\u001b[m\u001b[m*             \u001b[36mjo_patch\u001b[m\u001b[m/\r\n"
     ]
    }
   ],
   "source": [
    "ls"
   ]
  },
  {
   "cell_type": "code",
   "execution_count": 564,
   "metadata": {
    "collapsed": false
   },
   "outputs": [
    {
     "ename": "error",
     "evalue": "/Users/jhelmus/anaconda/conda-bld/work/opencv-2.4.8/modules/core/src/convert.cpp:296: error: (-215) mv[i].size == mv[0].size && mv[i].depth() == depth in function merge\n",
     "output_type": "error",
     "traceback": [
      "\u001b[0;31m---------------------------------------------------------------------------\u001b[0m",
      "\u001b[0;31merror\u001b[0m                                     Traceback (most recent call last)",
      "\u001b[0;32m<ipython-input-564-efa94980c8a5>\u001b[0m in \u001b[0;36m<module>\u001b[0;34m()\u001b[0m\n\u001b[1;32m      3\u001b[0m \u001b[0malpha_channel\u001b[0m \u001b[0;34m=\u001b[0m \u001b[0mnp\u001b[0m\u001b[0;34m.\u001b[0m\u001b[0mones\u001b[0m\u001b[0;34m(\u001b[0m\u001b[0;34m(\u001b[0m\u001b[0;36m185\u001b[0m\u001b[0;34m,\u001b[0m \u001b[0;36m198\u001b[0m\u001b[0;34m)\u001b[0m\u001b[0;34m)\u001b[0m \u001b[0;34m*\u001b[0m \u001b[0;36m50\u001b[0m \u001b[0;31m#creating a dummy alpha channel image.\u001b[0m\u001b[0;34m\u001b[0m\u001b[0m\n\u001b[1;32m      4\u001b[0m \u001b[0;34m\u001b[0m\u001b[0m\n\u001b[0;32m----> 5\u001b[0;31m \u001b[0mimg_RGBA\u001b[0m \u001b[0;34m=\u001b[0m \u001b[0mcv2\u001b[0m\u001b[0;34m.\u001b[0m\u001b[0mmerge\u001b[0m\u001b[0;34m(\u001b[0m\u001b[0;34m(\u001b[0m\u001b[0mb_channel\u001b[0m\u001b[0;34m,\u001b[0m \u001b[0mg_channel\u001b[0m\u001b[0;34m,\u001b[0m \u001b[0mr_channel\u001b[0m\u001b[0;34m,\u001b[0m \u001b[0malpha_channel\u001b[0m\u001b[0;34m)\u001b[0m\u001b[0;34m)\u001b[0m\u001b[0;34m\u001b[0m\u001b[0m\n\u001b[0m",
      "\u001b[0;31merror\u001b[0m: /Users/jhelmus/anaconda/conda-bld/work/opencv-2.4.8/modules/core/src/convert.cpp:296: error: (-215) mv[i].size == mv[0].size && mv[i].depth() == depth in function merge\n"
     ]
    }
   ],
   "source": [
    "b_channel, g_channel, r_channel = cv2.split(i)\n",
    "\n",
    "alpha_channel = np.ones((185, 198)) * 50 #creating a dummy alpha channel image.\n",
    "\n",
    "img_RGBA = cv2.merge((b_channel, g_channel, r_channel, alpha_channel))"
   ]
  },
  {
   "cell_type": "code",
   "execution_count": 388,
   "metadata": {
    "collapsed": false
   },
   "outputs": [
    {
     "name": "stderr",
     "output_type": "stream",
     "text": [
      "/Users/jhansen/anaconda/envs/py2icevview/lib/python2.7/site-packages/numpy/core/_methods.py:59: RuntimeWarning: Mean of empty slice.\n",
      "  warnings.warn(\"Mean of empty slice.\", RuntimeWarning)\n",
      "/Users/jhansen/anaconda/envs/py2icevview/lib/python2.7/site-packages/numpy/core/_methods.py:68: RuntimeWarning: invalid value encountered in true_divide\n",
      "  ret, rcount, out=ret, casting='unsafe', subok=False)\n",
      "/Users/jhansen/anaconda/envs/py2icevview/lib/python2.7/site-packages/skimage/transform/_geometric.py:53: RuntimeWarning: invalid value encountered in double_scalars\n",
      "  rms = math.sqrt(np.sum((points - centroid) ** 2) / points.shape[0])\n"
     ]
    },
    {
     "ename": "LinAlgError",
     "evalue": "Arrays cannot be empty",
     "output_type": "error",
     "traceback": [
      "\u001b[0;31m---------------------------------------------------------------------------\u001b[0m",
      "\u001b[0;31mLinAlgError\u001b[0m                               Traceback (most recent call last)",
      "\u001b[0;32m<ipython-input-388-cc9527557798>\u001b[0m in \u001b[0;36m<module>\u001b[0;34m()\u001b[0m\n\u001b[1;32m      4\u001b[0m model_robust, inliers = ransac((src, dst), AffineTransform,\n\u001b[1;32m      5\u001b[0m                                \u001b[0mmin_samples\u001b[0m\u001b[0;34m=\u001b[0m\u001b[0;36m20\u001b[0m\u001b[0;34m,\u001b[0m \u001b[0mresidual_threshold\u001b[0m\u001b[0;34m=\u001b[0m\u001b[0;36m1\u001b[0m\u001b[0;34m,\u001b[0m\u001b[0;34m\u001b[0m\u001b[0m\n\u001b[0;32m----> 6\u001b[0;31m                                max_trials=40)\n\u001b[0m",
      "\u001b[0;32m/Users/jhansen/anaconda/envs/py2icevview/lib/python2.7/site-packages/skimage/measure/fit.pyc\u001b[0m in \u001b[0;36mransac\u001b[0;34m(data, model_class, min_samples, residual_threshold, is_data_valid, is_model_valid, max_trials, stop_sample_num, stop_residuals_sum, stop_probability)\u001b[0m\n\u001b[1;32m    926\u001b[0m         \u001b[0;32mfor\u001b[0m \u001b[0mi\u001b[0m \u001b[0;32min\u001b[0m \u001b[0mrange\u001b[0m\u001b[0;34m(\u001b[0m\u001b[0mlen\u001b[0m\u001b[0;34m(\u001b[0m\u001b[0mdata\u001b[0m\u001b[0;34m)\u001b[0m\u001b[0;34m)\u001b[0m\u001b[0;34m:\u001b[0m\u001b[0;34m\u001b[0m\u001b[0m\n\u001b[1;32m    927\u001b[0m             \u001b[0mdata\u001b[0m\u001b[0;34m[\u001b[0m\u001b[0mi\u001b[0m\u001b[0;34m]\u001b[0m \u001b[0;34m=\u001b[0m \u001b[0mdata\u001b[0m\u001b[0;34m[\u001b[0m\u001b[0mi\u001b[0m\u001b[0;34m]\u001b[0m\u001b[0;34m[\u001b[0m\u001b[0mbest_inliers\u001b[0m\u001b[0;34m]\u001b[0m\u001b[0;34m\u001b[0m\u001b[0m\n\u001b[0;32m--> 928\u001b[0;31m         \u001b[0mbest_model\u001b[0m\u001b[0;34m.\u001b[0m\u001b[0mestimate\u001b[0m\u001b[0;34m(\u001b[0m\u001b[0;34m*\u001b[0m\u001b[0mdata\u001b[0m\u001b[0;34m)\u001b[0m\u001b[0;34m\u001b[0m\u001b[0m\n\u001b[0m\u001b[1;32m    929\u001b[0m \u001b[0;34m\u001b[0m\u001b[0m\n\u001b[1;32m    930\u001b[0m     \u001b[0;32mreturn\u001b[0m \u001b[0mbest_model\u001b[0m\u001b[0;34m,\u001b[0m \u001b[0mbest_inliers\u001b[0m\u001b[0;34m\u001b[0m\u001b[0m\n",
      "\u001b[0;32m/Users/jhansen/anaconda/envs/py2icevview/lib/python2.7/site-packages/skimage/transform/_geometric.pyc\u001b[0m in \u001b[0;36mestimate\u001b[0;34m(self, src, dst)\u001b[0m\n\u001b[1;32m    307\u001b[0m         \u001b[0mA\u001b[0m \u001b[0;34m=\u001b[0m \u001b[0mA\u001b[0m\u001b[0;34m[\u001b[0m\u001b[0;34m:\u001b[0m\u001b[0;34m,\u001b[0m \u001b[0mlist\u001b[0m\u001b[0;34m(\u001b[0m\u001b[0mself\u001b[0m\u001b[0;34m.\u001b[0m\u001b[0m_coeffs\u001b[0m\u001b[0;34m)\u001b[0m \u001b[0;34m+\u001b[0m \u001b[0;34m[\u001b[0m\u001b[0;36m8\u001b[0m\u001b[0;34m]\u001b[0m\u001b[0;34m]\u001b[0m\u001b[0;34m\u001b[0m\u001b[0m\n\u001b[1;32m    308\u001b[0m \u001b[0;34m\u001b[0m\u001b[0m\n\u001b[0;32m--> 309\u001b[0;31m         \u001b[0m_\u001b[0m\u001b[0;34m,\u001b[0m \u001b[0m_\u001b[0m\u001b[0;34m,\u001b[0m \u001b[0mV\u001b[0m \u001b[0;34m=\u001b[0m \u001b[0mnp\u001b[0m\u001b[0;34m.\u001b[0m\u001b[0mlinalg\u001b[0m\u001b[0;34m.\u001b[0m\u001b[0msvd\u001b[0m\u001b[0;34m(\u001b[0m\u001b[0mA\u001b[0m\u001b[0;34m)\u001b[0m\u001b[0;34m\u001b[0m\u001b[0m\n\u001b[0m\u001b[1;32m    310\u001b[0m \u001b[0;34m\u001b[0m\u001b[0m\n\u001b[1;32m    311\u001b[0m         \u001b[0mH\u001b[0m \u001b[0;34m=\u001b[0m \u001b[0mnp\u001b[0m\u001b[0;34m.\u001b[0m\u001b[0mzeros\u001b[0m\u001b[0;34m(\u001b[0m\u001b[0;34m(\u001b[0m\u001b[0;36m3\u001b[0m\u001b[0;34m,\u001b[0m \u001b[0;36m3\u001b[0m\u001b[0;34m)\u001b[0m\u001b[0;34m)\u001b[0m\u001b[0;34m\u001b[0m\u001b[0m\n",
      "\u001b[0;32m/Users/jhansen/anaconda/envs/py2icevview/lib/python2.7/site-packages/numpy/linalg/linalg.pyc\u001b[0m in \u001b[0;36msvd\u001b[0;34m(a, full_matrices, compute_uv)\u001b[0m\n\u001b[1;32m   1336\u001b[0m     \"\"\"\n\u001b[1;32m   1337\u001b[0m     \u001b[0ma\u001b[0m\u001b[0;34m,\u001b[0m \u001b[0mwrap\u001b[0m \u001b[0;34m=\u001b[0m \u001b[0m_makearray\u001b[0m\u001b[0;34m(\u001b[0m\u001b[0ma\u001b[0m\u001b[0;34m)\u001b[0m\u001b[0;34m\u001b[0m\u001b[0m\n\u001b[0;32m-> 1338\u001b[0;31m     \u001b[0m_assertNoEmpty2d\u001b[0m\u001b[0;34m(\u001b[0m\u001b[0ma\u001b[0m\u001b[0;34m)\u001b[0m\u001b[0;34m\u001b[0m\u001b[0m\n\u001b[0m\u001b[1;32m   1339\u001b[0m     \u001b[0m_assertRankAtLeast2\u001b[0m\u001b[0;34m(\u001b[0m\u001b[0ma\u001b[0m\u001b[0;34m)\u001b[0m\u001b[0;34m\u001b[0m\u001b[0m\n\u001b[1;32m   1340\u001b[0m     \u001b[0mt\u001b[0m\u001b[0;34m,\u001b[0m \u001b[0mresult_t\u001b[0m \u001b[0;34m=\u001b[0m \u001b[0m_commonType\u001b[0m\u001b[0;34m(\u001b[0m\u001b[0ma\u001b[0m\u001b[0;34m)\u001b[0m\u001b[0;34m\u001b[0m\u001b[0m\n",
      "\u001b[0;32m/Users/jhansen/anaconda/envs/py2icevview/lib/python2.7/site-packages/numpy/linalg/linalg.pyc\u001b[0m in \u001b[0;36m_assertNoEmpty2d\u001b[0;34m(*arrays)\u001b[0m\n\u001b[1;32m    220\u001b[0m     \u001b[0;32mfor\u001b[0m \u001b[0ma\u001b[0m \u001b[0;32min\u001b[0m \u001b[0marrays\u001b[0m\u001b[0;34m:\u001b[0m\u001b[0;34m\u001b[0m\u001b[0m\n\u001b[1;32m    221\u001b[0m         \u001b[0;32mif\u001b[0m \u001b[0ma\u001b[0m\u001b[0;34m.\u001b[0m\u001b[0msize\u001b[0m \u001b[0;34m==\u001b[0m \u001b[0;36m0\u001b[0m \u001b[0;32mand\u001b[0m \u001b[0mproduct\u001b[0m\u001b[0;34m(\u001b[0m\u001b[0ma\u001b[0m\u001b[0;34m.\u001b[0m\u001b[0mshape\u001b[0m\u001b[0;34m[\u001b[0m\u001b[0;34m-\u001b[0m\u001b[0;36m2\u001b[0m\u001b[0;34m:\u001b[0m\u001b[0;34m]\u001b[0m\u001b[0;34m)\u001b[0m \u001b[0;34m==\u001b[0m \u001b[0;36m0\u001b[0m\u001b[0;34m:\u001b[0m\u001b[0;34m\u001b[0m\u001b[0m\n\u001b[0;32m--> 222\u001b[0;31m             \u001b[0;32mraise\u001b[0m \u001b[0mLinAlgError\u001b[0m\u001b[0;34m(\u001b[0m\u001b[0;34m\"Arrays cannot be empty\"\u001b[0m\u001b[0;34m)\u001b[0m\u001b[0;34m\u001b[0m\u001b[0m\n\u001b[0m\u001b[1;32m    223\u001b[0m \u001b[0;34m\u001b[0m\u001b[0m\n\u001b[1;32m    224\u001b[0m \u001b[0;34m\u001b[0m\u001b[0m\n",
      "\u001b[0;31mLinAlgError\u001b[0m: Arrays cannot be empty"
     ]
    }
   ],
   "source": [
    "src = bk[ms[:,0]][:,::-1]\n",
    "dst = nk[ms[:,1]][:,::-1]\n",
    "# if there are not enough matches, this fails\n",
    "model_robust, inliers = ransac((src, dst), AffineTransform,\n",
    "                               min_samples=20, residual_threshold=1,\n",
    "                               max_trials=40)\n"
   ]
  },
  {
   "cell_type": "code",
   "execution_count": 389,
   "metadata": {
    "collapsed": true
   },
   "outputs": [],
   "source": [
    "from skimage.measure import ransac"
   ]
  },
  {
   "cell_type": "code",
   "execution_count": 384,
   "metadata": {
    "collapsed": true
   },
   "outputs": [],
   "source": [
    "from skimage.transform import warp, SimilarityTransform, AffineTransform, ProjectiveTransform\n"
   ]
  },
  {
   "cell_type": "code",
   "execution_count": 549,
   "metadata": {
    "collapsed": false
   },
   "outputs": [
    {
     "data": {
      "text/plain": [
       "[5, 7, 11, 4, 5, 5555, 6, 88]"
      ]
     },
     "execution_count": 549,
     "metadata": {},
     "output_type": "execute_result"
    }
   ],
   "source": [
    "a\n"
   ]
  },
  {
   "cell_type": "code",
   "execution_count": null,
   "metadata": {
    "collapsed": true
   },
   "outputs": [],
   "source": [
    "    def match_two_imgs(self, bn, n, pair_num, this_round):\n",
    "        final_name =\"R%03d_P%05d.jpg\" %(this_round, pair_num)\n",
    "        print(\"THIS ROUND\", this_round, bn, n, final_name)\n",
    "        bk = self.imgs[bn]['k']\n",
    "        bd = self.imgs[bn]['d']\n",
    "        bimg = self.imgs[bn]['g']\n",
    "        inlierRatio = 0.0\n",
    "        # match image\n",
    "\n",
    "        #or example: the H that transforms image 3 \n",
    "        #to line up with image 0 is H_03 = H_01 * H_12 * H_23.\n",
    "        #Where H_01 is the H that transforms image 1 to \n",
    "        #line up with image 0. (Depending on the way their \n",
    "        #code defines H, you might need to reverse the \n",
    "        #above multiplication order.) So you would multiply \n",
    "        #to obtain H_0i and then use it to transform image i \n",
    "        #to line up with image 0.\n",
    "        nk = self.imgs[n]['k']\n",
    "        nd = self.imgs[n]['d']\n",
    "        nimg = self.imgs[n]['g']\n",
    "        \n",
    "        inlierRatio, matches_subset, H = self.find_inliers(bk, bd, nk, nd)\n",
    "        \n",
    "        if inlierRatio > 0.7:\n",
    "            brgb = self.imgs[bn]['rgb']\n",
    "            nrgb = self.imgs[n]['rgb']\n",
    "            if True:\n",
    "                # get the rgb versions, so we can ultimately work with them instead\n",
    "                warp_order = 1\n",
    "                null_pixel = -1\n",
    "                # I dont think this step is necessary - should be H[2,2] is 1.0\n",
    "                #H = H / H[2,2]\n",
    "                H_inv = np.linalg.inv(H)\n",
    "                # use the inverse homography to get the dimensions of the next image\n",
    "                min_x, min_y, max_x, max_y, move_h, mod_inv_h = findDimensions(nimg, bimg, H_inv, H)\n",
    "                # Adjust max_x and max_y by base img size\n",
    "                max_x = max(max_x, bimg.shape[1])\n",
    "                max_y = max(max_y, bimg.shape[0])\n",
    "                img_w = int(math.ceil(max_x))\n",
    "                img_h = int(math.ceil(max_y))\n",
    "\n",
    "                output_shape_g = (img_w, img_h)\n",
    "                output_shape_rgb = (img_w, img_h, 3)\n",
    "                base_warp = warp(bimg, move_h, order=1, output_shape= output_shape_g, cval=-1)\n",
    "                next_warp = warp(nimg, mod_inv_h, order=1, output_shape= output_shape_g, cval=-1)\n",
    "                brgb_warp = warp(brgb, move_h, order=1, output_shape=output_shape_rgb, cval=-1)\n",
    "                nrgb_warp = warp(nrgb, mod_inv_h, order=1, output_shape=output_shape_rgb, cval=-1)\n",
    "\n",
    "                # create image masks\n",
    "                base_mask = (base_warp != -1)\n",
    "                base_warp[~base_mask] = 0\n",
    "                base_alpha = brgb_warp#np.dstack((brgb_warp, base_mask))\n",
    "                next_mask = (next_warp != -1)\n",
    "                next_warp[~next_mask] = 0\n",
    "                next_alpha = nrgb_warp #np.dstack((nrgb_warp, next_mask))\n",
    "                #plt.imsave(\"img_mask.jpg\", next_mask)\n",
    "                td = config.tmp_dir\n",
    "                tmp_base = os.path.join(td, 'tmp_' + '.'.join(bn.split('.')[:-1]) + '.png')\n",
    "                tmp_img = os.path.join(td, 'tmp_' + '.'.join(n.split('.')[:-1]) + '.png')\n",
    "                tmp_out = os.path.join(td, 'tmp_out_' + '.'.join(bn.split('.')[:-1]) + '.png')\n",
    "                \n",
    "                #plt.imsave(tmp_base, base_alpha)\n",
    "                #plt.imsave(tmp_img, next_alpha)\n",
    "                cv2.imwrite(tmp_base, brgb)\n",
    "                cv2.imwrite(tmp_img, nrgb)\n",
    "                cmd = ['enblend', tmp_base, tmp_img, '-o', tmp_out]\n",
    "\n",
    "                p = Popen(cmd, stdin=PIPE, stdout=PIPE, stderr=PIPE)\n",
    "                output, err = p.communicate(b\"input data that is passed to subprocess' stdin\")\n",
    "                rc = p.returncode\n",
    "                \n",
    "                if os.path.exists(tmp_out):\n",
    "                    out = imread(tmp_out)\n",
    "                    oute = remove_empty_alpha(out)\n",
    "                    os.remove(tmp_base)\n",
    "                    os.remove(tmp_img)\n",
    "                    os.remove(tmp_out)\n",
    "                    plt.imshow(oute)\n",
    "                    \n",
    "                    # Write out the current round\n",
    "                    final_filename = \"%s\" % (os.path.join(self.output_dir, final_name))\n",
    "                    cv2.imwrite(final_filename, oute)\n",
    "                    os.remove(self.imgs[bn]['path'])\n",
    "                    os.remove(self.imgs[n]['path'])\n",
    "                   \n",
    "                else:\n",
    "                    print(\"Could not find out\", tmp_out, rc)\n",
    "                    raise Exception(\"failed cmd %s\" %cmd)\n",
    "\n",
    "      "
   ]
  },
  {
   "cell_type": "code",
   "execution_count": 567,
   "metadata": {
    "collapsed": false
   },
   "outputs": [
    {
     "name": "stderr",
     "output_type": "stream",
     "text": [
      "DEBUG:PIL.PngImagePlugin:STREAM IHDR 16 13\n",
      "DEBUG:PIL.PngImagePlugin:STREAM sBIT 41 4\n",
      "DEBUG:PIL.PngImagePlugin:sBIT 41 4 (unknown)\n",
      "DEBUG:PIL.PngImagePlugin:STREAM pHYs 57 9\n",
      "DEBUG:PIL.PngImagePlugin:STREAM IDAT 78 8192\n"
     ]
    }
   ],
   "source": [
    "i = imread('/tmp/tmp_jo_pic_000.png')"
   ]
  },
  {
   "cell_type": "code",
   "execution_count": 572,
   "metadata": {
    "collapsed": false
   },
   "outputs": [
    {
     "data": {
      "text/plain": [
       "<matplotlib.image.AxesImage at 0x12f48b990>"
      ]
     },
     "execution_count": 572,
     "metadata": {},
     "output_type": "execute_result"
    },
    {
     "data": {
      "image/png": "[encoded data removed]",
      "text/plain": [
       "<matplotlib.figure.Figure at 0x13a4c2dd0>"
      ]
     },
     "metadata": {},
     "output_type": "display_data"
    }
   ],
   "source": [
    "plt.imshow(i[:,:,])"
   ]
  },
  {
   "cell_type": "code",
   "execution_count": 573,
   "metadata": {
    "collapsed": true
   },
   "outputs": [],
   "source": [
    "plt.imsave('i.jpg', i)"
   ]
  },
  {
   "cell_type": "code",
   "execution_count": null,
   "metadata": {
    "collapsed": true
   },
   "outputs": [],
   "source": [
    "inew = "
   ]
  }
 ],
 "metadata": {
  "kernelspec": {
   "display_name": "Python 2",
   "language": "python",
   "name": "python2"
  },
  "language_info": {
   "codemirror_mode": {
    "name": "ipython",
    "version": 2
   },
   "file_extension": ".py",
   "mimetype": "text/x-python",
   "name": "python",
   "nbconvert_exporter": "python",
   "pygments_lexer": "ipython2",
   "version": "2.7.12"
  }
 },
 "nbformat": 4,
 "nbformat_minor": 0
}
